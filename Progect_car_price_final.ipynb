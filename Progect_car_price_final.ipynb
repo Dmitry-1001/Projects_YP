{
 "cells": [
  {
   "cell_type": "markdown",
   "metadata": {},
   "source": [
    "# Описание проекта\n",
    "Сервис по продаже автомобилей с пробегом «Не бит, не крашен» разрабатывает приложение для привлечения новых клиентов. В нём можно быстро узнать рыночную стоимость своего автомобиля. В вашем распоряжении исторические данные: технические характеристики, комплектации и цены автомобилей. Вам нужно построить модель для определения стоимости. \n",
    "\n",
    "Заказчику важны:\n",
    "\n",
    "- качество предсказания;\n",
    "- скорость предсказания;\n",
    "- время обучения."
   ]
  },
  {
   "cell_type": "markdown",
   "metadata": {},
   "source": [
    "# Оглавление:\n",
    "\n",
    "* [1 Подготовка данных](#One)\n",
    "    * [1.1 Предобработка пропусков](#OnePointOne)\n",
    "        * [1.1.1 VehicleType](#OnePointOnePointOne)\n",
    "        * [1.1.2 Gearbox](#OnePointOnePointTwo)\n",
    "        * [1.1.3 Model](#OnePointOnePointThree)\n",
    "        * [1.1.4 FuelType](#OnePointOnePointFour)\n",
    "        * [1.1.5 NotRepaired](#OnePointOnePointFive)\n",
    "    * [1.2 Проверка корректность значений в признаках, анализ выбросов](#OnePointTwo)\n",
    "        * [1.2.1 Price](#OnePointTwoPointOne)\n",
    "        * [1.2.2 Power](#OnePointTwoPointTwo)\n",
    "        * [1.2.3 NumberOfPictures](#OnePointTwoPointThree)\n",
    "        * [1.2.4 RegistrationYear](#OnePointTwoPointFour)\n",
    "    * [1.3. Кодирование категориальных признаков](#OnePointThree)\n",
    "* [2 Обучение моделей](#Two)\n",
    "    * [2.1. LinearRegression](#TwoPointOne)\n",
    "    * [2.2. Random Forest](#TwoPointTwo)\n",
    "    * [2.3. LightGBM](#TwoPointThree)\n",
    "    * [2.4. CatBoost](#TwoPointFour)\n",
    "    * [2.5 XGBoost](#TwoPointFive)\n",
    "* [3 Анализ моделей](#Three)\n",
    "* [4 Общий вывод](#Four)"
   ]
  },
  {
   "cell_type": "markdown",
   "metadata": {},
   "source": [
    "# 1. Подготовка данных <a class=\"anchor\" id=\"One\"></a>"
   ]
  },
  {
   "cell_type": "code",
   "execution_count": 1,
   "metadata": {},
   "outputs": [],
   "source": [
    "import pandas as pd\n",
    "data = pd.read_csv('/datasets/autos.csv')"
   ]
  },
  {
   "cell_type": "code",
   "execution_count": 2,
   "metadata": {},
   "outputs": [],
   "source": [
    "import numpy as np\n",
    "import seaborn as sns\n",
    "import matplotlib.pyplot as plt   \n",
    "\n",
    "from sklearn.preprocessing import OrdinalEncoder\n",
    "\n",
    "from sklearn.metrics import mean_squared_error\n",
    "\n",
    "from sklearn.model_selection import train_test_split \n",
    "from sklearn.model_selection import cross_val_score, cross_val_predict , KFold\n",
    "from sklearn.model_selection import GridSearchCV \n",
    "\n",
    "\n",
    "from sklearn.linear_model import LinearRegression\n",
    "from sklearn.ensemble import RandomForestRegressor\n",
    "from catboost import Pool, CatBoostRegressor, cv\n",
    "from lightgbm import LGBMRegressor\n",
    "import xgboost as xgb\n",
    "import time\n"
   ]
  },
  {
   "cell_type": "code",
   "execution_count": 3,
   "metadata": {},
   "outputs": [
    {
     "name": "stdout",
     "output_type": "stream",
     "text": [
      "<class 'pandas.core.frame.DataFrame'>\n",
      "RangeIndex: 354369 entries, 0 to 354368\n",
      "Data columns (total 16 columns):\n",
      "DateCrawled          354369 non-null object\n",
      "Price                354369 non-null int64\n",
      "VehicleType          316879 non-null object\n",
      "RegistrationYear     354369 non-null int64\n",
      "Gearbox              334536 non-null object\n",
      "Power                354369 non-null int64\n",
      "Model                334664 non-null object\n",
      "Kilometer            354369 non-null int64\n",
      "RegistrationMonth    354369 non-null int64\n",
      "FuelType             321474 non-null object\n",
      "Brand                354369 non-null object\n",
      "NotRepaired          283215 non-null object\n",
      "DateCreated          354369 non-null object\n",
      "NumberOfPictures     354369 non-null int64\n",
      "PostalCode           354369 non-null int64\n",
      "LastSeen             354369 non-null object\n",
      "dtypes: int64(7), object(9)\n",
      "memory usage: 43.3+ MB\n"
     ]
    }
   ],
   "source": [
    "data.info()"
   ]
  },
  {
   "cell_type": "code",
   "execution_count": 4,
   "metadata": {},
   "outputs": [
    {
     "data": {
      "text/html": [
       "<div>\n",
       "<style scoped>\n",
       "    .dataframe tbody tr th:only-of-type {\n",
       "        vertical-align: middle;\n",
       "    }\n",
       "\n",
       "    .dataframe tbody tr th {\n",
       "        vertical-align: top;\n",
       "    }\n",
       "\n",
       "    .dataframe thead th {\n",
       "        text-align: right;\n",
       "    }\n",
       "</style>\n",
       "<table border=\"1\" class=\"dataframe\">\n",
       "  <thead>\n",
       "    <tr style=\"text-align: right;\">\n",
       "      <th></th>\n",
       "      <th>DateCrawled</th>\n",
       "      <th>Price</th>\n",
       "      <th>VehicleType</th>\n",
       "      <th>RegistrationYear</th>\n",
       "      <th>Gearbox</th>\n",
       "      <th>Power</th>\n",
       "      <th>Model</th>\n",
       "      <th>Kilometer</th>\n",
       "      <th>RegistrationMonth</th>\n",
       "      <th>FuelType</th>\n",
       "      <th>Brand</th>\n",
       "      <th>NotRepaired</th>\n",
       "      <th>DateCreated</th>\n",
       "      <th>NumberOfPictures</th>\n",
       "      <th>PostalCode</th>\n",
       "      <th>LastSeen</th>\n",
       "    </tr>\n",
       "  </thead>\n",
       "  <tbody>\n",
       "    <tr>\n",
       "      <td>0</td>\n",
       "      <td>2016-03-24 11:52:17</td>\n",
       "      <td>480</td>\n",
       "      <td>NaN</td>\n",
       "      <td>1993</td>\n",
       "      <td>manual</td>\n",
       "      <td>0</td>\n",
       "      <td>golf</td>\n",
       "      <td>150000</td>\n",
       "      <td>0</td>\n",
       "      <td>petrol</td>\n",
       "      <td>volkswagen</td>\n",
       "      <td>NaN</td>\n",
       "      <td>2016-03-24 00:00:00</td>\n",
       "      <td>0</td>\n",
       "      <td>70435</td>\n",
       "      <td>2016-04-07 03:16:57</td>\n",
       "    </tr>\n",
       "    <tr>\n",
       "      <td>1</td>\n",
       "      <td>2016-03-24 10:58:45</td>\n",
       "      <td>18300</td>\n",
       "      <td>coupe</td>\n",
       "      <td>2011</td>\n",
       "      <td>manual</td>\n",
       "      <td>190</td>\n",
       "      <td>NaN</td>\n",
       "      <td>125000</td>\n",
       "      <td>5</td>\n",
       "      <td>gasoline</td>\n",
       "      <td>audi</td>\n",
       "      <td>yes</td>\n",
       "      <td>2016-03-24 00:00:00</td>\n",
       "      <td>0</td>\n",
       "      <td>66954</td>\n",
       "      <td>2016-04-07 01:46:50</td>\n",
       "    </tr>\n",
       "    <tr>\n",
       "      <td>2</td>\n",
       "      <td>2016-03-14 12:52:21</td>\n",
       "      <td>9800</td>\n",
       "      <td>suv</td>\n",
       "      <td>2004</td>\n",
       "      <td>auto</td>\n",
       "      <td>163</td>\n",
       "      <td>grand</td>\n",
       "      <td>125000</td>\n",
       "      <td>8</td>\n",
       "      <td>gasoline</td>\n",
       "      <td>jeep</td>\n",
       "      <td>NaN</td>\n",
       "      <td>2016-03-14 00:00:00</td>\n",
       "      <td>0</td>\n",
       "      <td>90480</td>\n",
       "      <td>2016-04-05 12:47:46</td>\n",
       "    </tr>\n",
       "    <tr>\n",
       "      <td>3</td>\n",
       "      <td>2016-03-17 16:54:04</td>\n",
       "      <td>1500</td>\n",
       "      <td>small</td>\n",
       "      <td>2001</td>\n",
       "      <td>manual</td>\n",
       "      <td>75</td>\n",
       "      <td>golf</td>\n",
       "      <td>150000</td>\n",
       "      <td>6</td>\n",
       "      <td>petrol</td>\n",
       "      <td>volkswagen</td>\n",
       "      <td>no</td>\n",
       "      <td>2016-03-17 00:00:00</td>\n",
       "      <td>0</td>\n",
       "      <td>91074</td>\n",
       "      <td>2016-03-17 17:40:17</td>\n",
       "    </tr>\n",
       "    <tr>\n",
       "      <td>4</td>\n",
       "      <td>2016-03-31 17:25:20</td>\n",
       "      <td>3600</td>\n",
       "      <td>small</td>\n",
       "      <td>2008</td>\n",
       "      <td>manual</td>\n",
       "      <td>69</td>\n",
       "      <td>fabia</td>\n",
       "      <td>90000</td>\n",
       "      <td>7</td>\n",
       "      <td>gasoline</td>\n",
       "      <td>skoda</td>\n",
       "      <td>no</td>\n",
       "      <td>2016-03-31 00:00:00</td>\n",
       "      <td>0</td>\n",
       "      <td>60437</td>\n",
       "      <td>2016-04-06 10:17:21</td>\n",
       "    </tr>\n",
       "    <tr>\n",
       "      <td>5</td>\n",
       "      <td>2016-04-04 17:36:23</td>\n",
       "      <td>650</td>\n",
       "      <td>sedan</td>\n",
       "      <td>1995</td>\n",
       "      <td>manual</td>\n",
       "      <td>102</td>\n",
       "      <td>3er</td>\n",
       "      <td>150000</td>\n",
       "      <td>10</td>\n",
       "      <td>petrol</td>\n",
       "      <td>bmw</td>\n",
       "      <td>yes</td>\n",
       "      <td>2016-04-04 00:00:00</td>\n",
       "      <td>0</td>\n",
       "      <td>33775</td>\n",
       "      <td>2016-04-06 19:17:07</td>\n",
       "    </tr>\n",
       "    <tr>\n",
       "      <td>6</td>\n",
       "      <td>2016-04-01 20:48:51</td>\n",
       "      <td>2200</td>\n",
       "      <td>convertible</td>\n",
       "      <td>2004</td>\n",
       "      <td>manual</td>\n",
       "      <td>109</td>\n",
       "      <td>2_reihe</td>\n",
       "      <td>150000</td>\n",
       "      <td>8</td>\n",
       "      <td>petrol</td>\n",
       "      <td>peugeot</td>\n",
       "      <td>no</td>\n",
       "      <td>2016-04-01 00:00:00</td>\n",
       "      <td>0</td>\n",
       "      <td>67112</td>\n",
       "      <td>2016-04-05 18:18:39</td>\n",
       "    </tr>\n",
       "    <tr>\n",
       "      <td>7</td>\n",
       "      <td>2016-03-21 18:54:38</td>\n",
       "      <td>0</td>\n",
       "      <td>sedan</td>\n",
       "      <td>1980</td>\n",
       "      <td>manual</td>\n",
       "      <td>50</td>\n",
       "      <td>other</td>\n",
       "      <td>40000</td>\n",
       "      <td>7</td>\n",
       "      <td>petrol</td>\n",
       "      <td>volkswagen</td>\n",
       "      <td>no</td>\n",
       "      <td>2016-03-21 00:00:00</td>\n",
       "      <td>0</td>\n",
       "      <td>19348</td>\n",
       "      <td>2016-03-25 16:47:58</td>\n",
       "    </tr>\n",
       "    <tr>\n",
       "      <td>8</td>\n",
       "      <td>2016-04-04 23:42:13</td>\n",
       "      <td>14500</td>\n",
       "      <td>bus</td>\n",
       "      <td>2014</td>\n",
       "      <td>manual</td>\n",
       "      <td>125</td>\n",
       "      <td>c_max</td>\n",
       "      <td>30000</td>\n",
       "      <td>8</td>\n",
       "      <td>petrol</td>\n",
       "      <td>ford</td>\n",
       "      <td>NaN</td>\n",
       "      <td>2016-04-04 00:00:00</td>\n",
       "      <td>0</td>\n",
       "      <td>94505</td>\n",
       "      <td>2016-04-04 23:42:13</td>\n",
       "    </tr>\n",
       "    <tr>\n",
       "      <td>9</td>\n",
       "      <td>2016-03-17 10:53:50</td>\n",
       "      <td>999</td>\n",
       "      <td>small</td>\n",
       "      <td>1998</td>\n",
       "      <td>manual</td>\n",
       "      <td>101</td>\n",
       "      <td>golf</td>\n",
       "      <td>150000</td>\n",
       "      <td>0</td>\n",
       "      <td>NaN</td>\n",
       "      <td>volkswagen</td>\n",
       "      <td>NaN</td>\n",
       "      <td>2016-03-17 00:00:00</td>\n",
       "      <td>0</td>\n",
       "      <td>27472</td>\n",
       "      <td>2016-03-31 17:17:06</td>\n",
       "    </tr>\n",
       "  </tbody>\n",
       "</table>\n",
       "</div>"
      ],
      "text/plain": [
       "           DateCrawled  Price  VehicleType  RegistrationYear Gearbox  Power  \\\n",
       "0  2016-03-24 11:52:17    480          NaN              1993  manual      0   \n",
       "1  2016-03-24 10:58:45  18300        coupe              2011  manual    190   \n",
       "2  2016-03-14 12:52:21   9800          suv              2004    auto    163   \n",
       "3  2016-03-17 16:54:04   1500        small              2001  manual     75   \n",
       "4  2016-03-31 17:25:20   3600        small              2008  manual     69   \n",
       "5  2016-04-04 17:36:23    650        sedan              1995  manual    102   \n",
       "6  2016-04-01 20:48:51   2200  convertible              2004  manual    109   \n",
       "7  2016-03-21 18:54:38      0        sedan              1980  manual     50   \n",
       "8  2016-04-04 23:42:13  14500          bus              2014  manual    125   \n",
       "9  2016-03-17 10:53:50    999        small              1998  manual    101   \n",
       "\n",
       "     Model  Kilometer  RegistrationMonth  FuelType       Brand NotRepaired  \\\n",
       "0     golf     150000                  0    petrol  volkswagen         NaN   \n",
       "1      NaN     125000                  5  gasoline        audi         yes   \n",
       "2    grand     125000                  8  gasoline        jeep         NaN   \n",
       "3     golf     150000                  6    petrol  volkswagen          no   \n",
       "4    fabia      90000                  7  gasoline       skoda          no   \n",
       "5      3er     150000                 10    petrol         bmw         yes   \n",
       "6  2_reihe     150000                  8    petrol     peugeot          no   \n",
       "7    other      40000                  7    petrol  volkswagen          no   \n",
       "8    c_max      30000                  8    petrol        ford         NaN   \n",
       "9     golf     150000                  0       NaN  volkswagen         NaN   \n",
       "\n",
       "           DateCreated  NumberOfPictures  PostalCode             LastSeen  \n",
       "0  2016-03-24 00:00:00                 0       70435  2016-04-07 03:16:57  \n",
       "1  2016-03-24 00:00:00                 0       66954  2016-04-07 01:46:50  \n",
       "2  2016-03-14 00:00:00                 0       90480  2016-04-05 12:47:46  \n",
       "3  2016-03-17 00:00:00                 0       91074  2016-03-17 17:40:17  \n",
       "4  2016-03-31 00:00:00                 0       60437  2016-04-06 10:17:21  \n",
       "5  2016-04-04 00:00:00                 0       33775  2016-04-06 19:17:07  \n",
       "6  2016-04-01 00:00:00                 0       67112  2016-04-05 18:18:39  \n",
       "7  2016-03-21 00:00:00                 0       19348  2016-03-25 16:47:58  \n",
       "8  2016-04-04 00:00:00                 0       94505  2016-04-04 23:42:13  \n",
       "9  2016-03-17 00:00:00                 0       27472  2016-03-31 17:17:06  "
      ]
     },
     "metadata": {},
     "output_type": "display_data"
    }
   ],
   "source": [
    "display(data.head(10))"
   ]
  },
  {
   "cell_type": "markdown",
   "metadata": {},
   "source": [
    "  - проверить FuelType: выбросить пустые значения и 0, проверить типы топлива(бъединить петрол и газолайн)\n",
    "  - проверить все столбцы на 0 и NaN\n",
    "  - "
   ]
  },
  {
   "cell_type": "markdown",
   "metadata": {},
   "source": [
    " ## 1.1. Предобработка пропусков<a class=\"anchor\" id=\"OnePointOne\"></a>"
   ]
  },
  {
   "cell_type": "code",
   "execution_count": 5,
   "metadata": {},
   "outputs": [
    {
     "data": {
      "text/plain": [
       "DateCrawled              0\n",
       "Price                    0\n",
       "VehicleType          37490\n",
       "RegistrationYear         0\n",
       "Gearbox              19833\n",
       "Power                    0\n",
       "Model                19705\n",
       "Kilometer                0\n",
       "RegistrationMonth        0\n",
       "FuelType             32895\n",
       "Brand                    0\n",
       "NotRepaired          71154\n",
       "DateCreated              0\n",
       "NumberOfPictures         0\n",
       "PostalCode               0\n",
       "LastSeen                 0\n",
       "dtype: int64"
      ]
     },
     "execution_count": 5,
     "metadata": {},
     "output_type": "execute_result"
    }
   ],
   "source": [
    "data.isna().sum()"
   ]
  },
  {
   "cell_type": "code",
   "execution_count": 6,
   "metadata": {},
   "outputs": [
    {
     "data": {
      "text/plain": [
       "DateCrawled          0.000000\n",
       "Price                0.000000\n",
       "VehicleType          0.105794\n",
       "RegistrationYear     0.000000\n",
       "Gearbox              0.055967\n",
       "Power                0.000000\n",
       "Model                0.055606\n",
       "Kilometer            0.000000\n",
       "RegistrationMonth    0.000000\n",
       "FuelType             0.092827\n",
       "Brand                0.000000\n",
       "NotRepaired          0.200791\n",
       "DateCreated          0.000000\n",
       "NumberOfPictures     0.000000\n",
       "PostalCode           0.000000\n",
       "LastSeen             0.000000\n",
       "dtype: float64"
      ]
     },
     "execution_count": 6,
     "metadata": {},
     "output_type": "execute_result"
    }
   ],
   "source": [
    "data.isna().mean()"
   ]
  },
  {
   "cell_type": "markdown",
   "metadata": {},
   "source": [
    "  - Пропуски есть только в категориальных признаках:\n",
    "     - Тип кузова - 10,6% пропусков\n",
    "     - Тип коробки - 5,6%\n",
    "     - Модель - 5,6%\n",
    "     - Тип топлива - 9,3%\n",
    "     - Сведения о ремонте - 20%\n",
    " "
   ]
  },
  {
   "cell_type": "markdown",
   "metadata": {},
   "source": [
    "### 1.1.1 VehicleType<a class=\"anchor\" id=\"OnePointOnePointOne\"></a>"
   ]
  },
  {
   "cell_type": "code",
   "execution_count": 7,
   "metadata": {},
   "outputs": [
    {
     "data": {
      "text/plain": [
       "sedan          91457\n",
       "small          79831\n",
       "wagon          65166\n",
       "bus            28775\n",
       "convertible    20203\n",
       "coupe          16163\n",
       "suv            11996\n",
       "other           3288\n",
       "Name: VehicleType, dtype: int64"
      ]
     },
     "execution_count": 7,
     "metadata": {},
     "output_type": "execute_result"
    }
   ],
   "source": [
    "data['VehicleType'].value_counts().head(20)"
   ]
  },
  {
   "cell_type": "markdown",
   "metadata": {},
   "source": [
    " -  Решил заменить пропуски самым популярным вариантом типа кузова - sedan. Как вариант рассматривал другие(other)"
   ]
  },
  {
   "cell_type": "markdown",
   "metadata": {},
   "source": [
    "### 1.1.2 Gearbox<a class=\"anchor\" id=\"OnePointOnePointTwo\"></a>"
   ]
  },
  {
   "cell_type": "code",
   "execution_count": 8,
   "metadata": {},
   "outputs": [
    {
     "data": {
      "text/plain": [
       "manual    268251\n",
       "auto       66285\n",
       "Name: Gearbox, dtype: int64"
      ]
     },
     "execution_count": 8,
     "metadata": {},
     "output_type": "execute_result"
    }
   ],
   "source": [
    "data['Gearbox'].value_counts()"
   ]
  },
  {
   "cell_type": "markdown",
   "metadata": {},
   "source": [
    " - Заполним пропуски самым популярным вариантом - manual "
   ]
  },
  {
   "cell_type": "markdown",
   "metadata": {},
   "source": [
    "### 1.1.3 Model<a class=\"anchor\" id=\"OnePointOnePointThree\"></a>"
   ]
  },
  {
   "cell_type": "code",
   "execution_count": 9,
   "metadata": {},
   "outputs": [
    {
     "data": {
      "text/plain": [
       "golf           29232\n",
       "other          24421\n",
       "3er            19761\n",
       "polo           13066\n",
       "corsa          12570\n",
       "astra          10809\n",
       "passat         10146\n",
       "a4              9900\n",
       "c_klasse        8312\n",
       "5er             7868\n",
       "e_klasse        6785\n",
       "a3              6122\n",
       "focus           5874\n",
       "fiesta          5774\n",
       "a6              5541\n",
       "twingo          4953\n",
       "transporter     4822\n",
       "2_reihe         4816\n",
       "fortwo          4337\n",
       "vectra          4254\n",
       "Name: Model, dtype: int64"
      ]
     },
     "execution_count": 9,
     "metadata": {},
     "output_type": "execute_result"
    }
   ],
   "source": [
    "data['Model'].value_counts().head(20)"
   ]
  },
  {
   "cell_type": "markdown",
   "metadata": {},
   "source": [
    " - Пропусков в модели не так много(около 6%). Можно было бы удалить. Но решил заменить вторым по количеству вариантом(other). Другие варианты замен считаю не логичными, т.к. у каждого бренда свои модели."
   ]
  },
  {
   "cell_type": "markdown",
   "metadata": {},
   "source": [
    "### 1.1.4 FuelType<a class=\"anchor\" id=\"OnePointOnePointFour\"></a>"
   ]
  },
  {
   "cell_type": "code",
   "execution_count": 10,
   "metadata": {},
   "outputs": [
    {
     "data": {
      "text/plain": [
       "petrol      216352\n",
       "gasoline     98720\n",
       "lpg           5310\n",
       "cng            565\n",
       "hybrid         233\n",
       "other          204\n",
       "electric        90\n",
       "Name: FuelType, dtype: int64"
      ]
     },
     "execution_count": 10,
     "metadata": {},
     "output_type": "execute_result"
    }
   ],
   "source": [
    "data['FuelType'].value_counts().head(20)"
   ]
  },
  {
   "cell_type": "markdown",
   "metadata": {},
   "source": [
    " - Здесь так же решил заполнить пропуски самым популярным ответом - petrol"
   ]
  },
  {
   "cell_type": "markdown",
   "metadata": {},
   "source": [
    "### 1.1.5 NotRepaired<a class=\"anchor\" id=\"OnePointOnePointFive\"></a>"
   ]
  },
  {
   "cell_type": "code",
   "execution_count": 11,
   "metadata": {},
   "outputs": [
    {
     "data": {
      "text/plain": [
       "no     247161\n",
       "yes     36054\n",
       "Name: NotRepaired, dtype: int64"
      ]
     },
     "execution_count": 11,
     "metadata": {},
     "output_type": "execute_result"
    }
   ],
   "source": [
    "data['NotRepaired'].value_counts().head(20)"
   ]
  },
  {
   "cell_type": "markdown",
   "metadata": {},
   "source": [
    " - Наличие на рынке машин без ремонта очень небольшое. Поэтому пропуск можно расценивать, как желание скрыть информацию. Поэтому решил заменить самым популярным ответом - no."
   ]
  },
  {
   "cell_type": "code",
   "execution_count": 12,
   "metadata": {},
   "outputs": [],
   "source": [
    "# Функция для заполнения пропусков\n",
    "def missing_values(data):\n",
    "    data['Model'] = data['Model'].fillna('other')     \n",
    "    data['VehicleType'].fillna(data['VehicleType'].mode()[0], inplace=True)\n",
    "    data['Gearbox'].fillna(data['Gearbox'].mode()[0], inplace=True)    \n",
    "    data['FuelType'].fillna(data['FuelType'].mode()[0], inplace=True)\n",
    "    data['NotRepaired'].fillna(data['NotRepaired'].mode()[0], inplace=True)   \n",
    "    return data\n"
   ]
  },
  {
   "cell_type": "markdown",
   "metadata": {},
   "source": [
    "## 1.2. Проверка корректность значений в признаках, анализ выбросов<a class=\"anchor\" id=\"OnePointTwo\"></a>"
   ]
  },
  {
   "cell_type": "code",
   "execution_count": 13,
   "metadata": {},
   "outputs": [
    {
     "data": {
      "text/html": [
       "<div>\n",
       "<style scoped>\n",
       "    .dataframe tbody tr th:only-of-type {\n",
       "        vertical-align: middle;\n",
       "    }\n",
       "\n",
       "    .dataframe tbody tr th {\n",
       "        vertical-align: top;\n",
       "    }\n",
       "\n",
       "    .dataframe thead th {\n",
       "        text-align: right;\n",
       "    }\n",
       "</style>\n",
       "<table border=\"1\" class=\"dataframe\">\n",
       "  <thead>\n",
       "    <tr style=\"text-align: right;\">\n",
       "      <th></th>\n",
       "      <th>Price</th>\n",
       "      <th>RegistrationYear</th>\n",
       "      <th>Power</th>\n",
       "      <th>Kilometer</th>\n",
       "      <th>RegistrationMonth</th>\n",
       "      <th>NumberOfPictures</th>\n",
       "    </tr>\n",
       "  </thead>\n",
       "  <tbody>\n",
       "    <tr>\n",
       "      <td>count</td>\n",
       "      <td>354369.000000</td>\n",
       "      <td>354369.000000</td>\n",
       "      <td>354369.000000</td>\n",
       "      <td>354369.000000</td>\n",
       "      <td>354369.000000</td>\n",
       "      <td>354369.0</td>\n",
       "    </tr>\n",
       "    <tr>\n",
       "      <td>mean</td>\n",
       "      <td>4416.656776</td>\n",
       "      <td>2004.234448</td>\n",
       "      <td>110.094337</td>\n",
       "      <td>128211.172535</td>\n",
       "      <td>5.714645</td>\n",
       "      <td>0.0</td>\n",
       "    </tr>\n",
       "    <tr>\n",
       "      <td>std</td>\n",
       "      <td>4514.158514</td>\n",
       "      <td>90.227958</td>\n",
       "      <td>189.850405</td>\n",
       "      <td>37905.341530</td>\n",
       "      <td>3.726421</td>\n",
       "      <td>0.0</td>\n",
       "    </tr>\n",
       "    <tr>\n",
       "      <td>min</td>\n",
       "      <td>0.000000</td>\n",
       "      <td>1000.000000</td>\n",
       "      <td>0.000000</td>\n",
       "      <td>5000.000000</td>\n",
       "      <td>0.000000</td>\n",
       "      <td>0.0</td>\n",
       "    </tr>\n",
       "    <tr>\n",
       "      <td>25%</td>\n",
       "      <td>1050.000000</td>\n",
       "      <td>1999.000000</td>\n",
       "      <td>69.000000</td>\n",
       "      <td>125000.000000</td>\n",
       "      <td>3.000000</td>\n",
       "      <td>0.0</td>\n",
       "    </tr>\n",
       "    <tr>\n",
       "      <td>50%</td>\n",
       "      <td>2700.000000</td>\n",
       "      <td>2003.000000</td>\n",
       "      <td>105.000000</td>\n",
       "      <td>150000.000000</td>\n",
       "      <td>6.000000</td>\n",
       "      <td>0.0</td>\n",
       "    </tr>\n",
       "    <tr>\n",
       "      <td>75%</td>\n",
       "      <td>6400.000000</td>\n",
       "      <td>2008.000000</td>\n",
       "      <td>143.000000</td>\n",
       "      <td>150000.000000</td>\n",
       "      <td>9.000000</td>\n",
       "      <td>0.0</td>\n",
       "    </tr>\n",
       "    <tr>\n",
       "      <td>max</td>\n",
       "      <td>20000.000000</td>\n",
       "      <td>9999.000000</td>\n",
       "      <td>20000.000000</td>\n",
       "      <td>150000.000000</td>\n",
       "      <td>12.000000</td>\n",
       "      <td>0.0</td>\n",
       "    </tr>\n",
       "  </tbody>\n",
       "</table>\n",
       "</div>"
      ],
      "text/plain": [
       "               Price  RegistrationYear          Power      Kilometer  \\\n",
       "count  354369.000000     354369.000000  354369.000000  354369.000000   \n",
       "mean     4416.656776       2004.234448     110.094337  128211.172535   \n",
       "std      4514.158514         90.227958     189.850405   37905.341530   \n",
       "min         0.000000       1000.000000       0.000000    5000.000000   \n",
       "25%      1050.000000       1999.000000      69.000000  125000.000000   \n",
       "50%      2700.000000       2003.000000     105.000000  150000.000000   \n",
       "75%      6400.000000       2008.000000     143.000000  150000.000000   \n",
       "max     20000.000000       9999.000000   20000.000000  150000.000000   \n",
       "\n",
       "       RegistrationMonth  NumberOfPictures  \n",
       "count      354369.000000          354369.0  \n",
       "mean            5.714645               0.0  \n",
       "std             3.726421               0.0  \n",
       "min             0.000000               0.0  \n",
       "25%             3.000000               0.0  \n",
       "50%             6.000000               0.0  \n",
       "75%             9.000000               0.0  \n",
       "max            12.000000               0.0  "
      ]
     },
     "execution_count": 13,
     "metadata": {},
     "output_type": "execute_result"
    }
   ],
   "source": [
    "data_numbers = data.drop(['DateCrawled', 'LastSeen', 'DateCreated', 'PostalCode'], axis = 1)\n",
    "#посмотрим на числовые столбцы\n",
    "data_numbers.describe()"
   ]
  },
  {
   "cell_type": "markdown",
   "metadata": {},
   "source": [
    " - в столбцах Price, Power, RegistrationMonth есть нули, их нужно обработать\n",
    " - в столбце RegistrationYear видим аномальные значения - 1000 и 9999\n",
    " - в столбце NumberOfPictures все значения нули, удалим его"
   ]
  },
  {
   "cell_type": "markdown",
   "metadata": {},
   "source": [
    "### 1.2.1 Price<a class=\"anchor\" id=\"OnePointTwoPointOne\"></a>"
   ]
  },
  {
   "cell_type": "code",
   "execution_count": 14,
   "metadata": {},
   "outputs": [
    {
     "data": {
      "text/plain": [
       "0       10772\n",
       "500      5670\n",
       "1500     5394\n",
       "1000     4649\n",
       "1200     4594\n",
       "2500     4438\n",
       "600      3819\n",
       "3500     3792\n",
       "800      3784\n",
       "2000     3431\n",
       "Name: Price, dtype: int64"
      ]
     },
     "execution_count": 14,
     "metadata": {},
     "output_type": "execute_result"
    }
   ],
   "source": [
    "data['Price'].value_counts().head(10)"
   ]
  },
  {
   "cell_type": "code",
   "execution_count": 15,
   "metadata": {},
   "outputs": [
    {
     "data": {
      "image/png": "[encoded data removed]",
      "text/plain": [
       "<Figure size 504x720 with 1 Axes>"
      ]
     },
     "metadata": {
      "needs_background": "light"
     },
     "output_type": "display_data"
    }
   ],
   "source": [
    "plt.figure(figsize =(7,10))\n",
    "data.boxplot(column='Price')\n",
    "plt.show()"
   ]
  },
  {
   "cell_type": "code",
   "execution_count": 16,
   "metadata": {},
   "outputs": [
    {
     "data": {
      "image/png": "[encoded data removed]",
      "text/plain": [
       "<Figure size 864x504 with 1 Axes>"
      ]
     },
     "metadata": {
      "needs_background": "light"
     },
     "output_type": "display_data"
    }
   ],
   "source": [
    "plt.figure(figsize =(12,7))\n",
    "sns.distplot(data['Price']);"
   ]
  },
  {
   "cell_type": "markdown",
   "metadata": {},
   "source": [
    " - В столбце со стоимостью много значений с ценой 0. Это равнозначно пропуску, удалим строки с нулевой ценой и выбросы больше 15000."
   ]
  },
  {
   "cell_type": "markdown",
   "metadata": {},
   "source": [
    "### 1.2.2 Power<a class=\"anchor\" id=\"OnePointTwoPointTwo\"></a>"
   ]
  },
  {
   "cell_type": "code",
   "execution_count": 17,
   "metadata": {},
   "outputs": [
    {
     "data": {
      "text/plain": [
       "0      40225\n",
       "75     24023\n",
       "60     15897\n",
       "150    14590\n",
       "101    13298\n",
       "140    12852\n",
       "90     12734\n",
       "116    11918\n",
       "105    10355\n",
       "170    10121\n",
       "125     6965\n",
       "136     6752\n",
       "102     6451\n",
       "163     6081\n",
       "54      5745\n",
       "143     5300\n",
       "122     5125\n",
       "131     5108\n",
       "109     4777\n",
       "110     4729\n",
       "Name: Power, dtype: int64"
      ]
     },
     "execution_count": 17,
     "metadata": {},
     "output_type": "execute_result"
    }
   ],
   "source": [
    "data['Power'].value_counts().head(20)"
   ]
  },
  {
   "cell_type": "code",
   "execution_count": 18,
   "metadata": {},
   "outputs": [
    {
     "data": {
      "image/png": "[encoded data removed]",
      "text/plain": [
       "<Figure size 504x720 with 1 Axes>"
      ]
     },
     "metadata": {
      "needs_background": "light"
     },
     "output_type": "display_data"
    }
   ],
   "source": [
    "plt.figure(figsize =(7,10))\n",
    "data.boxplot(column='Power')\n",
    "plt.show()"
   ]
  },
  {
   "cell_type": "markdown",
   "metadata": {},
   "source": [
    " - Удалим значения мощности с 0 и значения выше 500"
   ]
  },
  {
   "cell_type": "markdown",
   "metadata": {},
   "source": [
    "### 1.2.3 NumberOfPictures<a class=\"anchor\" id=\"OnePointTwoPointThree\"></a>"
   ]
  },
  {
   "cell_type": "code",
   "execution_count": 19,
   "metadata": {},
   "outputs": [
    {
     "data": {
      "text/plain": [
       "0    354369\n",
       "Name: NumberOfPictures, dtype: int64"
      ]
     },
     "execution_count": 19,
     "metadata": {},
     "output_type": "execute_result"
    }
   ],
   "source": [
    "data['NumberOfPictures'].value_counts().head(10)"
   ]
  },
  {
   "cell_type": "markdown",
   "metadata": {},
   "source": [
    "- В столбце о фотографиях только нули. Это никак не коррелирует с прайсом. Удалим его\n",
    "- Так же столбца с датами, месяц регистрации и почтовый индекс почти не влияют на прайс(DateCrawled, DateCreated,\tPostalCode,\tLastSeen). Удалим их"
   ]
  },
  {
   "cell_type": "markdown",
   "metadata": {},
   "source": [
    "### 1.2.4 RegistrationYear<a class=\"anchor\" id=\"OnePointTwoPointFour\"></a>"
   ]
  },
  {
   "cell_type": "code",
   "execution_count": 20,
   "metadata": {},
   "outputs": [
    {
     "data": {
      "text/plain": [
       "2000    24490\n",
       "1999    22728\n",
       "2005    22109\n",
       "2001    20124\n",
       "2006    19900\n",
       "2003    19763\n",
       "2004    19611\n",
       "2002    19092\n",
       "1998    17899\n",
       "2007    17183\n",
       "2008    15391\n",
       "1997    14666\n",
       "2009    14503\n",
       "1996    10835\n",
       "2010    10764\n",
       "2017    10441\n",
       "2011     9909\n",
       "1995     9607\n",
       "2016     9599\n",
       "2012     7178\n",
       "1994     4841\n",
       "2013     4131\n",
       "2018     3959\n",
       "1993     3438\n",
       "1992     3002\n",
       "1990     2806\n",
       "1991     2762\n",
       "2014     2537\n",
       "1989     1318\n",
       "2015     1302\n",
       "Name: RegistrationYear, dtype: int64"
      ]
     },
     "execution_count": 20,
     "metadata": {},
     "output_type": "execute_result"
    }
   ],
   "source": [
    "data['RegistrationYear'].value_counts().head(30)"
   ]
  },
  {
   "cell_type": "code",
   "execution_count": 21,
   "metadata": {},
   "outputs": [
    {
     "data": {
      "image/png": "[encoded data removed]",
      "text/plain": [
       "<Figure size 504x720 with 1 Axes>"
      ]
     },
     "metadata": {
      "needs_background": "light"
     },
     "output_type": "display_data"
    }
   ],
   "source": [
    "plt.figure(figsize =(7,10))\n",
    "data.boxplot(column='RegistrationYear')\n",
    "plt.show()"
   ]
  },
  {
   "cell_type": "code",
   "execution_count": 22,
   "metadata": {
    "scrolled": true
   },
   "outputs": [
    {
     "data": {
      "image/png": "[encoded data removed]",
      "text/plain": [
       "<Figure size 720x360 with 1 Axes>"
      ]
     },
     "metadata": {
      "needs_background": "light"
     },
     "output_type": "display_data"
    }
   ],
   "source": [
    "plt.figure(figsize =(10,5))\n",
    "sns.distplot(data['RegistrationYear']);"
   ]
  },
  {
   "cell_type": "markdown",
   "metadata": {},
   "source": [
    "- удалим выбросы и аномальные значение в столбце RegistrationYear. Это значения меньше 1950г. и больше 2020г."
   ]
  },
  {
   "cell_type": "code",
   "execution_count": 23,
   "metadata": {},
   "outputs": [],
   "source": [
    "# Функция удаления выбросов, аномалий и малоинформативных данных\n",
    "def outliers_remove(data):\n",
    "    data = data.query('0 < Price < 15000')\n",
    "    data = data.query('0 < Power < 500')\n",
    "    data = data.drop(['NumberOfPictures', 'DateCrawled','DateCreated', \n",
    "                            'PostalCode', 'LastSeen', 'RegistrationMonth'], axis = 1)\n",
    "    data = data.query('1950 < RegistrationYear < 2020')\n",
    "    return data\n"
   ]
  },
  {
   "cell_type": "code",
   "execution_count": 24,
   "metadata": {},
   "outputs": [
    {
     "data": {
      "text/html": [
       "<div>\n",
       "<style scoped>\n",
       "    .dataframe tbody tr th:only-of-type {\n",
       "        vertical-align: middle;\n",
       "    }\n",
       "\n",
       "    .dataframe tbody tr th {\n",
       "        vertical-align: top;\n",
       "    }\n",
       "\n",
       "    .dataframe thead th {\n",
       "        text-align: right;\n",
       "    }\n",
       "</style>\n",
       "<table border=\"1\" class=\"dataframe\">\n",
       "  <thead>\n",
       "    <tr style=\"text-align: right;\">\n",
       "      <th></th>\n",
       "      <th>DateCrawled</th>\n",
       "      <th>Price</th>\n",
       "      <th>VehicleType</th>\n",
       "      <th>RegistrationYear</th>\n",
       "      <th>Gearbox</th>\n",
       "      <th>Power</th>\n",
       "      <th>Model</th>\n",
       "      <th>Kilometer</th>\n",
       "      <th>RegistrationMonth</th>\n",
       "      <th>FuelType</th>\n",
       "      <th>Brand</th>\n",
       "      <th>NotRepaired</th>\n",
       "      <th>DateCreated</th>\n",
       "      <th>NumberOfPictures</th>\n",
       "      <th>PostalCode</th>\n",
       "      <th>LastSeen</th>\n",
       "    </tr>\n",
       "  </thead>\n",
       "  <tbody>\n",
       "    <tr>\n",
       "      <td>0</td>\n",
       "      <td>2016-03-24 11:52:17</td>\n",
       "      <td>480</td>\n",
       "      <td>sedan</td>\n",
       "      <td>1993</td>\n",
       "      <td>manual</td>\n",
       "      <td>0</td>\n",
       "      <td>golf</td>\n",
       "      <td>150000</td>\n",
       "      <td>0</td>\n",
       "      <td>petrol</td>\n",
       "      <td>volkswagen</td>\n",
       "      <td>no</td>\n",
       "      <td>2016-03-24 00:00:00</td>\n",
       "      <td>0</td>\n",
       "      <td>70435</td>\n",
       "      <td>2016-04-07 03:16:57</td>\n",
       "    </tr>\n",
       "    <tr>\n",
       "      <td>1</td>\n",
       "      <td>2016-03-24 10:58:45</td>\n",
       "      <td>18300</td>\n",
       "      <td>coupe</td>\n",
       "      <td>2011</td>\n",
       "      <td>manual</td>\n",
       "      <td>190</td>\n",
       "      <td>other</td>\n",
       "      <td>125000</td>\n",
       "      <td>5</td>\n",
       "      <td>gasoline</td>\n",
       "      <td>audi</td>\n",
       "      <td>yes</td>\n",
       "      <td>2016-03-24 00:00:00</td>\n",
       "      <td>0</td>\n",
       "      <td>66954</td>\n",
       "      <td>2016-04-07 01:46:50</td>\n",
       "    </tr>\n",
       "    <tr>\n",
       "      <td>2</td>\n",
       "      <td>2016-03-14 12:52:21</td>\n",
       "      <td>9800</td>\n",
       "      <td>suv</td>\n",
       "      <td>2004</td>\n",
       "      <td>auto</td>\n",
       "      <td>163</td>\n",
       "      <td>grand</td>\n",
       "      <td>125000</td>\n",
       "      <td>8</td>\n",
       "      <td>gasoline</td>\n",
       "      <td>jeep</td>\n",
       "      <td>no</td>\n",
       "      <td>2016-03-14 00:00:00</td>\n",
       "      <td>0</td>\n",
       "      <td>90480</td>\n",
       "      <td>2016-04-05 12:47:46</td>\n",
       "    </tr>\n",
       "    <tr>\n",
       "      <td>3</td>\n",
       "      <td>2016-03-17 16:54:04</td>\n",
       "      <td>1500</td>\n",
       "      <td>small</td>\n",
       "      <td>2001</td>\n",
       "      <td>manual</td>\n",
       "      <td>75</td>\n",
       "      <td>golf</td>\n",
       "      <td>150000</td>\n",
       "      <td>6</td>\n",
       "      <td>petrol</td>\n",
       "      <td>volkswagen</td>\n",
       "      <td>no</td>\n",
       "      <td>2016-03-17 00:00:00</td>\n",
       "      <td>0</td>\n",
       "      <td>91074</td>\n",
       "      <td>2016-03-17 17:40:17</td>\n",
       "    </tr>\n",
       "    <tr>\n",
       "      <td>4</td>\n",
       "      <td>2016-03-31 17:25:20</td>\n",
       "      <td>3600</td>\n",
       "      <td>small</td>\n",
       "      <td>2008</td>\n",
       "      <td>manual</td>\n",
       "      <td>69</td>\n",
       "      <td>fabia</td>\n",
       "      <td>90000</td>\n",
       "      <td>7</td>\n",
       "      <td>gasoline</td>\n",
       "      <td>skoda</td>\n",
       "      <td>no</td>\n",
       "      <td>2016-03-31 00:00:00</td>\n",
       "      <td>0</td>\n",
       "      <td>60437</td>\n",
       "      <td>2016-04-06 10:17:21</td>\n",
       "    </tr>\n",
       "    <tr>\n",
       "      <td>...</td>\n",
       "      <td>...</td>\n",
       "      <td>...</td>\n",
       "      <td>...</td>\n",
       "      <td>...</td>\n",
       "      <td>...</td>\n",
       "      <td>...</td>\n",
       "      <td>...</td>\n",
       "      <td>...</td>\n",
       "      <td>...</td>\n",
       "      <td>...</td>\n",
       "      <td>...</td>\n",
       "      <td>...</td>\n",
       "      <td>...</td>\n",
       "      <td>...</td>\n",
       "      <td>...</td>\n",
       "      <td>...</td>\n",
       "    </tr>\n",
       "    <tr>\n",
       "      <td>354364</td>\n",
       "      <td>2016-03-21 09:50:58</td>\n",
       "      <td>0</td>\n",
       "      <td>sedan</td>\n",
       "      <td>2005</td>\n",
       "      <td>manual</td>\n",
       "      <td>0</td>\n",
       "      <td>colt</td>\n",
       "      <td>150000</td>\n",
       "      <td>7</td>\n",
       "      <td>petrol</td>\n",
       "      <td>mitsubishi</td>\n",
       "      <td>yes</td>\n",
       "      <td>2016-03-21 00:00:00</td>\n",
       "      <td>0</td>\n",
       "      <td>2694</td>\n",
       "      <td>2016-03-21 10:42:49</td>\n",
       "    </tr>\n",
       "    <tr>\n",
       "      <td>354365</td>\n",
       "      <td>2016-03-14 17:48:27</td>\n",
       "      <td>2200</td>\n",
       "      <td>sedan</td>\n",
       "      <td>2005</td>\n",
       "      <td>manual</td>\n",
       "      <td>0</td>\n",
       "      <td>other</td>\n",
       "      <td>20000</td>\n",
       "      <td>1</td>\n",
       "      <td>petrol</td>\n",
       "      <td>sonstige_autos</td>\n",
       "      <td>no</td>\n",
       "      <td>2016-03-14 00:00:00</td>\n",
       "      <td>0</td>\n",
       "      <td>39576</td>\n",
       "      <td>2016-04-06 00:46:52</td>\n",
       "    </tr>\n",
       "    <tr>\n",
       "      <td>354366</td>\n",
       "      <td>2016-03-05 19:56:21</td>\n",
       "      <td>1199</td>\n",
       "      <td>convertible</td>\n",
       "      <td>2000</td>\n",
       "      <td>auto</td>\n",
       "      <td>101</td>\n",
       "      <td>fortwo</td>\n",
       "      <td>125000</td>\n",
       "      <td>3</td>\n",
       "      <td>petrol</td>\n",
       "      <td>smart</td>\n",
       "      <td>no</td>\n",
       "      <td>2016-03-05 00:00:00</td>\n",
       "      <td>0</td>\n",
       "      <td>26135</td>\n",
       "      <td>2016-03-11 18:17:12</td>\n",
       "    </tr>\n",
       "    <tr>\n",
       "      <td>354367</td>\n",
       "      <td>2016-03-19 18:57:12</td>\n",
       "      <td>9200</td>\n",
       "      <td>bus</td>\n",
       "      <td>1996</td>\n",
       "      <td>manual</td>\n",
       "      <td>102</td>\n",
       "      <td>transporter</td>\n",
       "      <td>150000</td>\n",
       "      <td>3</td>\n",
       "      <td>gasoline</td>\n",
       "      <td>volkswagen</td>\n",
       "      <td>no</td>\n",
       "      <td>2016-03-19 00:00:00</td>\n",
       "      <td>0</td>\n",
       "      <td>87439</td>\n",
       "      <td>2016-04-07 07:15:26</td>\n",
       "    </tr>\n",
       "    <tr>\n",
       "      <td>354368</td>\n",
       "      <td>2016-03-20 19:41:08</td>\n",
       "      <td>3400</td>\n",
       "      <td>wagon</td>\n",
       "      <td>2002</td>\n",
       "      <td>manual</td>\n",
       "      <td>100</td>\n",
       "      <td>golf</td>\n",
       "      <td>150000</td>\n",
       "      <td>6</td>\n",
       "      <td>gasoline</td>\n",
       "      <td>volkswagen</td>\n",
       "      <td>no</td>\n",
       "      <td>2016-03-20 00:00:00</td>\n",
       "      <td>0</td>\n",
       "      <td>40764</td>\n",
       "      <td>2016-03-24 12:45:21</td>\n",
       "    </tr>\n",
       "  </tbody>\n",
       "</table>\n",
       "<p>354369 rows × 16 columns</p>\n",
       "</div>"
      ],
      "text/plain": [
       "                DateCrawled  Price  VehicleType  RegistrationYear Gearbox  \\\n",
       "0       2016-03-24 11:52:17    480        sedan              1993  manual   \n",
       "1       2016-03-24 10:58:45  18300        coupe              2011  manual   \n",
       "2       2016-03-14 12:52:21   9800          suv              2004    auto   \n",
       "3       2016-03-17 16:54:04   1500        small              2001  manual   \n",
       "4       2016-03-31 17:25:20   3600        small              2008  manual   \n",
       "...                     ...    ...          ...               ...     ...   \n",
       "354364  2016-03-21 09:50:58      0        sedan              2005  manual   \n",
       "354365  2016-03-14 17:48:27   2200        sedan              2005  manual   \n",
       "354366  2016-03-05 19:56:21   1199  convertible              2000    auto   \n",
       "354367  2016-03-19 18:57:12   9200          bus              1996  manual   \n",
       "354368  2016-03-20 19:41:08   3400        wagon              2002  manual   \n",
       "\n",
       "        Power        Model  Kilometer  RegistrationMonth  FuelType  \\\n",
       "0           0         golf     150000                  0    petrol   \n",
       "1         190        other     125000                  5  gasoline   \n",
       "2         163        grand     125000                  8  gasoline   \n",
       "3          75         golf     150000                  6    petrol   \n",
       "4          69        fabia      90000                  7  gasoline   \n",
       "...       ...          ...        ...                ...       ...   \n",
       "354364      0         colt     150000                  7    petrol   \n",
       "354365      0        other      20000                  1    petrol   \n",
       "354366    101       fortwo     125000                  3    petrol   \n",
       "354367    102  transporter     150000                  3  gasoline   \n",
       "354368    100         golf     150000                  6  gasoline   \n",
       "\n",
       "                 Brand NotRepaired          DateCreated  NumberOfPictures  \\\n",
       "0           volkswagen          no  2016-03-24 00:00:00                 0   \n",
       "1                 audi         yes  2016-03-24 00:00:00                 0   \n",
       "2                 jeep          no  2016-03-14 00:00:00                 0   \n",
       "3           volkswagen          no  2016-03-17 00:00:00                 0   \n",
       "4                skoda          no  2016-03-31 00:00:00                 0   \n",
       "...                ...         ...                  ...               ...   \n",
       "354364      mitsubishi         yes  2016-03-21 00:00:00                 0   \n",
       "354365  sonstige_autos          no  2016-03-14 00:00:00                 0   \n",
       "354366           smart          no  2016-03-05 00:00:00                 0   \n",
       "354367      volkswagen          no  2016-03-19 00:00:00                 0   \n",
       "354368      volkswagen          no  2016-03-20 00:00:00                 0   \n",
       "\n",
       "        PostalCode             LastSeen  \n",
       "0            70435  2016-04-07 03:16:57  \n",
       "1            66954  2016-04-07 01:46:50  \n",
       "2            90480  2016-04-05 12:47:46  \n",
       "3            91074  2016-03-17 17:40:17  \n",
       "4            60437  2016-04-06 10:17:21  \n",
       "...            ...                  ...  \n",
       "354364        2694  2016-03-21 10:42:49  \n",
       "354365       39576  2016-04-06 00:46:52  \n",
       "354366       26135  2016-03-11 18:17:12  \n",
       "354367       87439  2016-04-07 07:15:26  \n",
       "354368       40764  2016-03-24 12:45:21  \n",
       "\n",
       "[354369 rows x 16 columns]"
      ]
     },
     "execution_count": 24,
     "metadata": {},
     "output_type": "execute_result"
    }
   ],
   "source": [
    "missing_values(data)"
   ]
  },
  {
   "cell_type": "code",
   "execution_count": 25,
   "metadata": {},
   "outputs": [
    {
     "data": {
      "text/html": [
       "<div>\n",
       "<style scoped>\n",
       "    .dataframe tbody tr th:only-of-type {\n",
       "        vertical-align: middle;\n",
       "    }\n",
       "\n",
       "    .dataframe tbody tr th {\n",
       "        vertical-align: top;\n",
       "    }\n",
       "\n",
       "    .dataframe thead th {\n",
       "        text-align: right;\n",
       "    }\n",
       "</style>\n",
       "<table border=\"1\" class=\"dataframe\">\n",
       "  <thead>\n",
       "    <tr style=\"text-align: right;\">\n",
       "      <th></th>\n",
       "      <th>Price</th>\n",
       "      <th>VehicleType</th>\n",
       "      <th>RegistrationYear</th>\n",
       "      <th>Gearbox</th>\n",
       "      <th>Power</th>\n",
       "      <th>Model</th>\n",
       "      <th>Kilometer</th>\n",
       "      <th>FuelType</th>\n",
       "      <th>Brand</th>\n",
       "      <th>NotRepaired</th>\n",
       "    </tr>\n",
       "  </thead>\n",
       "  <tbody>\n",
       "    <tr>\n",
       "      <td>2</td>\n",
       "      <td>9800</td>\n",
       "      <td>suv</td>\n",
       "      <td>2004</td>\n",
       "      <td>auto</td>\n",
       "      <td>163</td>\n",
       "      <td>grand</td>\n",
       "      <td>125000</td>\n",
       "      <td>gasoline</td>\n",
       "      <td>jeep</td>\n",
       "      <td>no</td>\n",
       "    </tr>\n",
       "    <tr>\n",
       "      <td>3</td>\n",
       "      <td>1500</td>\n",
       "      <td>small</td>\n",
       "      <td>2001</td>\n",
       "      <td>manual</td>\n",
       "      <td>75</td>\n",
       "      <td>golf</td>\n",
       "      <td>150000</td>\n",
       "      <td>petrol</td>\n",
       "      <td>volkswagen</td>\n",
       "      <td>no</td>\n",
       "    </tr>\n",
       "    <tr>\n",
       "      <td>4</td>\n",
       "      <td>3600</td>\n",
       "      <td>small</td>\n",
       "      <td>2008</td>\n",
       "      <td>manual</td>\n",
       "      <td>69</td>\n",
       "      <td>fabia</td>\n",
       "      <td>90000</td>\n",
       "      <td>gasoline</td>\n",
       "      <td>skoda</td>\n",
       "      <td>no</td>\n",
       "    </tr>\n",
       "    <tr>\n",
       "      <td>5</td>\n",
       "      <td>650</td>\n",
       "      <td>sedan</td>\n",
       "      <td>1995</td>\n",
       "      <td>manual</td>\n",
       "      <td>102</td>\n",
       "      <td>3er</td>\n",
       "      <td>150000</td>\n",
       "      <td>petrol</td>\n",
       "      <td>bmw</td>\n",
       "      <td>yes</td>\n",
       "    </tr>\n",
       "    <tr>\n",
       "      <td>6</td>\n",
       "      <td>2200</td>\n",
       "      <td>convertible</td>\n",
       "      <td>2004</td>\n",
       "      <td>manual</td>\n",
       "      <td>109</td>\n",
       "      <td>2_reihe</td>\n",
       "      <td>150000</td>\n",
       "      <td>petrol</td>\n",
       "      <td>peugeot</td>\n",
       "      <td>no</td>\n",
       "    </tr>\n",
       "    <tr>\n",
       "      <td>...</td>\n",
       "      <td>...</td>\n",
       "      <td>...</td>\n",
       "      <td>...</td>\n",
       "      <td>...</td>\n",
       "      <td>...</td>\n",
       "      <td>...</td>\n",
       "      <td>...</td>\n",
       "      <td>...</td>\n",
       "      <td>...</td>\n",
       "      <td>...</td>\n",
       "    </tr>\n",
       "    <tr>\n",
       "      <td>354361</td>\n",
       "      <td>5250</td>\n",
       "      <td>sedan</td>\n",
       "      <td>2016</td>\n",
       "      <td>auto</td>\n",
       "      <td>150</td>\n",
       "      <td>159</td>\n",
       "      <td>150000</td>\n",
       "      <td>petrol</td>\n",
       "      <td>alfa_romeo</td>\n",
       "      <td>no</td>\n",
       "    </tr>\n",
       "    <tr>\n",
       "      <td>354362</td>\n",
       "      <td>3200</td>\n",
       "      <td>sedan</td>\n",
       "      <td>2004</td>\n",
       "      <td>manual</td>\n",
       "      <td>225</td>\n",
       "      <td>leon</td>\n",
       "      <td>150000</td>\n",
       "      <td>petrol</td>\n",
       "      <td>seat</td>\n",
       "      <td>yes</td>\n",
       "    </tr>\n",
       "    <tr>\n",
       "      <td>354366</td>\n",
       "      <td>1199</td>\n",
       "      <td>convertible</td>\n",
       "      <td>2000</td>\n",
       "      <td>auto</td>\n",
       "      <td>101</td>\n",
       "      <td>fortwo</td>\n",
       "      <td>125000</td>\n",
       "      <td>petrol</td>\n",
       "      <td>smart</td>\n",
       "      <td>no</td>\n",
       "    </tr>\n",
       "    <tr>\n",
       "      <td>354367</td>\n",
       "      <td>9200</td>\n",
       "      <td>bus</td>\n",
       "      <td>1996</td>\n",
       "      <td>manual</td>\n",
       "      <td>102</td>\n",
       "      <td>transporter</td>\n",
       "      <td>150000</td>\n",
       "      <td>gasoline</td>\n",
       "      <td>volkswagen</td>\n",
       "      <td>no</td>\n",
       "    </tr>\n",
       "    <tr>\n",
       "      <td>354368</td>\n",
       "      <td>3400</td>\n",
       "      <td>wagon</td>\n",
       "      <td>2002</td>\n",
       "      <td>manual</td>\n",
       "      <td>100</td>\n",
       "      <td>golf</td>\n",
       "      <td>150000</td>\n",
       "      <td>gasoline</td>\n",
       "      <td>volkswagen</td>\n",
       "      <td>no</td>\n",
       "    </tr>\n",
       "  </tbody>\n",
       "</table>\n",
       "<p>291752 rows × 10 columns</p>\n",
       "</div>"
      ],
      "text/plain": [
       "        Price  VehicleType  RegistrationYear Gearbox  Power        Model  \\\n",
       "2        9800          suv              2004    auto    163        grand   \n",
       "3        1500        small              2001  manual     75         golf   \n",
       "4        3600        small              2008  manual     69        fabia   \n",
       "5         650        sedan              1995  manual    102          3er   \n",
       "6        2200  convertible              2004  manual    109      2_reihe   \n",
       "...       ...          ...               ...     ...    ...          ...   \n",
       "354361   5250        sedan              2016    auto    150          159   \n",
       "354362   3200        sedan              2004  manual    225         leon   \n",
       "354366   1199  convertible              2000    auto    101       fortwo   \n",
       "354367   9200          bus              1996  manual    102  transporter   \n",
       "354368   3400        wagon              2002  manual    100         golf   \n",
       "\n",
       "        Kilometer  FuelType       Brand NotRepaired  \n",
       "2          125000  gasoline        jeep          no  \n",
       "3          150000    petrol  volkswagen          no  \n",
       "4           90000  gasoline       skoda          no  \n",
       "5          150000    petrol         bmw         yes  \n",
       "6          150000    petrol     peugeot          no  \n",
       "...           ...       ...         ...         ...  \n",
       "354361     150000    petrol  alfa_romeo          no  \n",
       "354362     150000    petrol        seat         yes  \n",
       "354366     125000    petrol       smart          no  \n",
       "354367     150000  gasoline  volkswagen          no  \n",
       "354368     150000  gasoline  volkswagen          no  \n",
       "\n",
       "[291752 rows x 10 columns]"
      ]
     },
     "execution_count": 25,
     "metadata": {},
     "output_type": "execute_result"
    }
   ],
   "source": [
    "outliers_remove(data)"
   ]
  },
  {
   "cell_type": "code",
   "execution_count": 26,
   "metadata": {},
   "outputs": [],
   "source": [
    "# Предобработаем данные\n",
    "data = missing_values(data)"
   ]
  },
  {
   "cell_type": "code",
   "execution_count": 27,
   "metadata": {},
   "outputs": [],
   "source": [
    "data = outliers_remove(data).reset_index(drop=True)"
   ]
  },
  {
   "cell_type": "markdown",
   "metadata": {},
   "source": [
    "## 1.3. Кодирование категориальных признаков<a class=\"anchor\" id=\"OnePointTwoPointThree\"></a>"
   ]
  },
  {
   "cell_type": "code",
   "execution_count": 28,
   "metadata": {},
   "outputs": [],
   "source": [
    "# Функция кодирования категориальных данных\n",
    "def ohe(data):\n",
    "    categorical_features = ['VehicleType' , 'Gearbox' , 'Model' , 'FuelType' , 'Brand' , 'NotRepaired']\n",
    "    encoder = OrdinalEncoder(dtype = 'int64')\n",
    "    data_encoded = encoder.fit_transform(data[categorical_features])   \n",
    "    df_encoded = pd.DataFrame(data = data_encoded, columns = categorical_features)\n",
    "    return pd.concat([df_encoded, data[set(data.columns)-set(categorical_features)]] , axis=1) "
   ]
  },
  {
   "cell_type": "code",
   "execution_count": 29,
   "metadata": {},
   "outputs": [
    {
     "data": {
      "text/html": [
       "<div>\n",
       "<style scoped>\n",
       "    .dataframe tbody tr th:only-of-type {\n",
       "        vertical-align: middle;\n",
       "    }\n",
       "\n",
       "    .dataframe tbody tr th {\n",
       "        vertical-align: top;\n",
       "    }\n",
       "\n",
       "    .dataframe thead th {\n",
       "        text-align: right;\n",
       "    }\n",
       "</style>\n",
       "<table border=\"1\" class=\"dataframe\">\n",
       "  <thead>\n",
       "    <tr style=\"text-align: right;\">\n",
       "      <th></th>\n",
       "      <th>VehicleType</th>\n",
       "      <th>Gearbox</th>\n",
       "      <th>Model</th>\n",
       "      <th>FuelType</th>\n",
       "      <th>Brand</th>\n",
       "      <th>NotRepaired</th>\n",
       "      <th>RegistrationYear</th>\n",
       "      <th>Kilometer</th>\n",
       "      <th>Power</th>\n",
       "      <th>Price</th>\n",
       "    </tr>\n",
       "  </thead>\n",
       "  <tbody>\n",
       "    <tr>\n",
       "      <td>0</td>\n",
       "      <td>6</td>\n",
       "      <td>0</td>\n",
       "      <td>117</td>\n",
       "      <td>2</td>\n",
       "      <td>14</td>\n",
       "      <td>0</td>\n",
       "      <td>2004</td>\n",
       "      <td>125000</td>\n",
       "      <td>163</td>\n",
       "      <td>9800</td>\n",
       "    </tr>\n",
       "    <tr>\n",
       "      <td>1</td>\n",
       "      <td>5</td>\n",
       "      <td>1</td>\n",
       "      <td>116</td>\n",
       "      <td>6</td>\n",
       "      <td>38</td>\n",
       "      <td>0</td>\n",
       "      <td>2001</td>\n",
       "      <td>150000</td>\n",
       "      <td>75</td>\n",
       "      <td>1500</td>\n",
       "    </tr>\n",
       "    <tr>\n",
       "      <td>2</td>\n",
       "      <td>5</td>\n",
       "      <td>1</td>\n",
       "      <td>101</td>\n",
       "      <td>2</td>\n",
       "      <td>31</td>\n",
       "      <td>0</td>\n",
       "      <td>2008</td>\n",
       "      <td>90000</td>\n",
       "      <td>69</td>\n",
       "      <td>3600</td>\n",
       "    </tr>\n",
       "    <tr>\n",
       "      <td>3</td>\n",
       "      <td>4</td>\n",
       "      <td>1</td>\n",
       "      <td>11</td>\n",
       "      <td>6</td>\n",
       "      <td>2</td>\n",
       "      <td>1</td>\n",
       "      <td>1995</td>\n",
       "      <td>150000</td>\n",
       "      <td>102</td>\n",
       "      <td>650</td>\n",
       "    </tr>\n",
       "    <tr>\n",
       "      <td>4</td>\n",
       "      <td>1</td>\n",
       "      <td>1</td>\n",
       "      <td>8</td>\n",
       "      <td>6</td>\n",
       "      <td>25</td>\n",
       "      <td>0</td>\n",
       "      <td>2004</td>\n",
       "      <td>150000</td>\n",
       "      <td>109</td>\n",
       "      <td>2200</td>\n",
       "    </tr>\n",
       "    <tr>\n",
       "      <td>...</td>\n",
       "      <td>...</td>\n",
       "      <td>...</td>\n",
       "      <td>...</td>\n",
       "      <td>...</td>\n",
       "      <td>...</td>\n",
       "      <td>...</td>\n",
       "      <td>...</td>\n",
       "      <td>...</td>\n",
       "      <td>...</td>\n",
       "      <td>...</td>\n",
       "    </tr>\n",
       "    <tr>\n",
       "      <td>291747</td>\n",
       "      <td>4</td>\n",
       "      <td>0</td>\n",
       "      <td>4</td>\n",
       "      <td>6</td>\n",
       "      <td>0</td>\n",
       "      <td>0</td>\n",
       "      <td>2016</td>\n",
       "      <td>150000</td>\n",
       "      <td>150</td>\n",
       "      <td>5250</td>\n",
       "    </tr>\n",
       "    <tr>\n",
       "      <td>291748</td>\n",
       "      <td>4</td>\n",
       "      <td>1</td>\n",
       "      <td>140</td>\n",
       "      <td>6</td>\n",
       "      <td>30</td>\n",
       "      <td>1</td>\n",
       "      <td>2004</td>\n",
       "      <td>150000</td>\n",
       "      <td>225</td>\n",
       "      <td>3200</td>\n",
       "    </tr>\n",
       "    <tr>\n",
       "      <td>291749</td>\n",
       "      <td>1</td>\n",
       "      <td>0</td>\n",
       "      <td>106</td>\n",
       "      <td>6</td>\n",
       "      <td>32</td>\n",
       "      <td>0</td>\n",
       "      <td>2000</td>\n",
       "      <td>125000</td>\n",
       "      <td>101</td>\n",
       "      <td>1199</td>\n",
       "    </tr>\n",
       "    <tr>\n",
       "      <td>291750</td>\n",
       "      <td>0</td>\n",
       "      <td>1</td>\n",
       "      <td>223</td>\n",
       "      <td>2</td>\n",
       "      <td>38</td>\n",
       "      <td>0</td>\n",
       "      <td>1996</td>\n",
       "      <td>150000</td>\n",
       "      <td>102</td>\n",
       "      <td>9200</td>\n",
       "    </tr>\n",
       "    <tr>\n",
       "      <td>291751</td>\n",
       "      <td>7</td>\n",
       "      <td>1</td>\n",
       "      <td>116</td>\n",
       "      <td>2</td>\n",
       "      <td>38</td>\n",
       "      <td>0</td>\n",
       "      <td>2002</td>\n",
       "      <td>150000</td>\n",
       "      <td>100</td>\n",
       "      <td>3400</td>\n",
       "    </tr>\n",
       "  </tbody>\n",
       "</table>\n",
       "<p>291752 rows × 10 columns</p>\n",
       "</div>"
      ],
      "text/plain": [
       "        VehicleType  Gearbox  Model  FuelType  Brand  NotRepaired  \\\n",
       "0                 6        0    117         2     14            0   \n",
       "1                 5        1    116         6     38            0   \n",
       "2                 5        1    101         2     31            0   \n",
       "3                 4        1     11         6      2            1   \n",
       "4                 1        1      8         6     25            0   \n",
       "...             ...      ...    ...       ...    ...          ...   \n",
       "291747            4        0      4         6      0            0   \n",
       "291748            4        1    140         6     30            1   \n",
       "291749            1        0    106         6     32            0   \n",
       "291750            0        1    223         2     38            0   \n",
       "291751            7        1    116         2     38            0   \n",
       "\n",
       "        RegistrationYear  Kilometer  Power  Price  \n",
       "0                   2004     125000    163   9800  \n",
       "1                   2001     150000     75   1500  \n",
       "2                   2008      90000     69   3600  \n",
       "3                   1995     150000    102    650  \n",
       "4                   2004     150000    109   2200  \n",
       "...                  ...        ...    ...    ...  \n",
       "291747              2016     150000    150   5250  \n",
       "291748              2004     150000    225   3200  \n",
       "291749              2000     125000    101   1199  \n",
       "291750              1996     150000    102   9200  \n",
       "291751              2002     150000    100   3400  \n",
       "\n",
       "[291752 rows x 10 columns]"
      ]
     },
     "execution_count": 29,
     "metadata": {},
     "output_type": "execute_result"
    }
   ],
   "source": [
    "ohe(data)"
   ]
  },
  {
   "cell_type": "code",
   "execution_count": 30,
   "metadata": {},
   "outputs": [],
   "source": [
    "data_clear = ohe(data)"
   ]
  },
  {
   "cell_type": "code",
   "execution_count": 31,
   "metadata": {},
   "outputs": [
    {
     "data": {
      "text/html": [
       "<div>\n",
       "<style scoped>\n",
       "    .dataframe tbody tr th:only-of-type {\n",
       "        vertical-align: middle;\n",
       "    }\n",
       "\n",
       "    .dataframe tbody tr th {\n",
       "        vertical-align: top;\n",
       "    }\n",
       "\n",
       "    .dataframe thead th {\n",
       "        text-align: right;\n",
       "    }\n",
       "</style>\n",
       "<table border=\"1\" class=\"dataframe\">\n",
       "  <thead>\n",
       "    <tr style=\"text-align: right;\">\n",
       "      <th></th>\n",
       "      <th>VehicleType</th>\n",
       "      <th>Gearbox</th>\n",
       "      <th>Model</th>\n",
       "      <th>FuelType</th>\n",
       "      <th>Brand</th>\n",
       "      <th>NotRepaired</th>\n",
       "      <th>RegistrationYear</th>\n",
       "      <th>Kilometer</th>\n",
       "      <th>Power</th>\n",
       "      <th>Price</th>\n",
       "    </tr>\n",
       "  </thead>\n",
       "  <tbody>\n",
       "    <tr>\n",
       "      <td>Price</td>\n",
       "      <td>0.078626</td>\n",
       "      <td>0.220216</td>\n",
       "      <td>0.039457</td>\n",
       "      <td>0.293381</td>\n",
       "      <td>0.097077</td>\n",
       "      <td>0.195993</td>\n",
       "      <td>0.418560</td>\n",
       "      <td>0.333550</td>\n",
       "      <td>0.469193</td>\n",
       "      <td>1.000000</td>\n",
       "    </tr>\n",
       "    <tr>\n",
       "      <td>Power</td>\n",
       "      <td>0.014298</td>\n",
       "      <td>0.412927</td>\n",
       "      <td>0.145443</td>\n",
       "      <td>0.207799</td>\n",
       "      <td>0.330321</td>\n",
       "      <td>0.030751</td>\n",
       "      <td>0.081378</td>\n",
       "      <td>0.151508</td>\n",
       "      <td>1.000000</td>\n",
       "      <td>0.469193</td>\n",
       "    </tr>\n",
       "    <tr>\n",
       "      <td>RegistrationYear</td>\n",
       "      <td>0.030042</td>\n",
       "      <td>0.008662</td>\n",
       "      <td>0.007539</td>\n",
       "      <td>0.203121</td>\n",
       "      <td>0.005729</td>\n",
       "      <td>0.080643</td>\n",
       "      <td>1.000000</td>\n",
       "      <td>0.224563</td>\n",
       "      <td>0.081378</td>\n",
       "      <td>0.418560</td>\n",
       "    </tr>\n",
       "    <tr>\n",
       "      <td>Kilometer</td>\n",
       "      <td>0.037564</td>\n",
       "      <td>0.028281</td>\n",
       "      <td>0.038039</td>\n",
       "      <td>0.164778</td>\n",
       "      <td>0.051038</td>\n",
       "      <td>0.065121</td>\n",
       "      <td>0.224563</td>\n",
       "      <td>1.000000</td>\n",
       "      <td>0.151508</td>\n",
       "      <td>0.333550</td>\n",
       "    </tr>\n",
       "    <tr>\n",
       "      <td>FuelType</td>\n",
       "      <td>0.042310</td>\n",
       "      <td>0.133275</td>\n",
       "      <td>0.021617</td>\n",
       "      <td>1.000000</td>\n",
       "      <td>0.027592</td>\n",
       "      <td>0.026868</td>\n",
       "      <td>0.203121</td>\n",
       "      <td>0.164778</td>\n",
       "      <td>0.207799</td>\n",
       "      <td>0.293381</td>\n",
       "    </tr>\n",
       "    <tr>\n",
       "      <td>Gearbox</td>\n",
       "      <td>0.037047</td>\n",
       "      <td>1.000000</td>\n",
       "      <td>0.049943</td>\n",
       "      <td>0.133275</td>\n",
       "      <td>0.103794</td>\n",
       "      <td>0.009494</td>\n",
       "      <td>0.008662</td>\n",
       "      <td>0.028281</td>\n",
       "      <td>0.412927</td>\n",
       "      <td>0.220216</td>\n",
       "    </tr>\n",
       "    <tr>\n",
       "      <td>NotRepaired</td>\n",
       "      <td>0.019011</td>\n",
       "      <td>0.009494</td>\n",
       "      <td>0.012929</td>\n",
       "      <td>0.026868</td>\n",
       "      <td>0.009966</td>\n",
       "      <td>1.000000</td>\n",
       "      <td>0.080643</td>\n",
       "      <td>0.065121</td>\n",
       "      <td>0.030751</td>\n",
       "      <td>0.195993</td>\n",
       "    </tr>\n",
       "    <tr>\n",
       "      <td>Brand</td>\n",
       "      <td>0.046627</td>\n",
       "      <td>0.103794</td>\n",
       "      <td>0.456080</td>\n",
       "      <td>0.027592</td>\n",
       "      <td>1.000000</td>\n",
       "      <td>0.009966</td>\n",
       "      <td>0.005729</td>\n",
       "      <td>0.051038</td>\n",
       "      <td>0.330321</td>\n",
       "      <td>0.097077</td>\n",
       "    </tr>\n",
       "    <tr>\n",
       "      <td>VehicleType</td>\n",
       "      <td>1.000000</td>\n",
       "      <td>0.037047</td>\n",
       "      <td>0.139686</td>\n",
       "      <td>0.042310</td>\n",
       "      <td>0.046627</td>\n",
       "      <td>0.019011</td>\n",
       "      <td>0.030042</td>\n",
       "      <td>0.037564</td>\n",
       "      <td>0.014298</td>\n",
       "      <td>0.078626</td>\n",
       "    </tr>\n",
       "    <tr>\n",
       "      <td>Model</td>\n",
       "      <td>0.139686</td>\n",
       "      <td>0.049943</td>\n",
       "      <td>1.000000</td>\n",
       "      <td>0.021617</td>\n",
       "      <td>0.456080</td>\n",
       "      <td>0.012929</td>\n",
       "      <td>0.007539</td>\n",
       "      <td>0.038039</td>\n",
       "      <td>0.145443</td>\n",
       "      <td>0.039457</td>\n",
       "    </tr>\n",
       "  </tbody>\n",
       "</table>\n",
       "</div>"
      ],
      "text/plain": [
       "                  VehicleType   Gearbox     Model  FuelType     Brand  \\\n",
       "Price                0.078626  0.220216  0.039457  0.293381  0.097077   \n",
       "Power                0.014298  0.412927  0.145443  0.207799  0.330321   \n",
       "RegistrationYear     0.030042  0.008662  0.007539  0.203121  0.005729   \n",
       "Kilometer            0.037564  0.028281  0.038039  0.164778  0.051038   \n",
       "FuelType             0.042310  0.133275  0.021617  1.000000  0.027592   \n",
       "Gearbox              0.037047  1.000000  0.049943  0.133275  0.103794   \n",
       "NotRepaired          0.019011  0.009494  0.012929  0.026868  0.009966   \n",
       "Brand                0.046627  0.103794  0.456080  0.027592  1.000000   \n",
       "VehicleType          1.000000  0.037047  0.139686  0.042310  0.046627   \n",
       "Model                0.139686  0.049943  1.000000  0.021617  0.456080   \n",
       "\n",
       "                  NotRepaired  RegistrationYear  Kilometer     Power     Price  \n",
       "Price                0.195993          0.418560   0.333550  0.469193  1.000000  \n",
       "Power                0.030751          0.081378   0.151508  1.000000  0.469193  \n",
       "RegistrationYear     0.080643          1.000000   0.224563  0.081378  0.418560  \n",
       "Kilometer            0.065121          0.224563   1.000000  0.151508  0.333550  \n",
       "FuelType             0.026868          0.203121   0.164778  0.207799  0.293381  \n",
       "Gearbox              0.009494          0.008662   0.028281  0.412927  0.220216  \n",
       "NotRepaired          1.000000          0.080643   0.065121  0.030751  0.195993  \n",
       "Brand                0.009966          0.005729   0.051038  0.330321  0.097077  \n",
       "VehicleType          0.019011          0.030042   0.037564  0.014298  0.078626  \n",
       "Model                0.012929          0.007539   0.038039  0.145443  0.039457  "
      ]
     },
     "execution_count": 31,
     "metadata": {},
     "output_type": "execute_result"
    }
   ],
   "source": [
    "# Проверим итоговую корреляцию признаков с ценой\n",
    "corr_matrix = abs(data_clear.corr())  # Рассматриваем абсолютное значение корреляции\n",
    "corr = corr_matrix.sort_values(by='Price' , ascending = False)\n",
    "corr"
   ]
  },
  {
   "cell_type": "markdown",
   "metadata": {},
   "source": [
    "## Вывод"
   ]
  },
  {
   "cell_type": "markdown",
   "metadata": {},
   "source": [
    "**Проверка и обработка пропусков**\n",
    "- VehicleType. Пропуски заполнил модой, т.к. это меньше всего искажает реальную картину.\n",
    "- Gearbox. Пропуски заполнил модой, т.к. самое популярное значение содержит почти 80% датасета.\n",
    "- FuelType. Так же пропуски заполнил модой, этого значения более 60%.\n",
    "- Model. Зменил вторым по количеству вариантом(other). Другие варианты замен считаю не логичными, т.к. у каждого бренда свои модели.\n",
    "- NotRepaired. Зменил модой, т.к. машин с ремонтом значительно больше.\n",
    "\n",
    "**Проверка корректность значений в признаках, посмотрим на выбросы**\n",
    "- NumberOfPictures. Удалил признак, т.к. все значения нулевые.\n",
    "- DateCrawled, DateCreated, PostalCode, LastSeen. Так же удалил, т.к. эти данные почти не влияют на прайс.\n",
    "- Price. Удалил строки с нулевой ценой и выбросы больше 15000.\n",
    "- Power. Удалил значения мощности с 0 и значения выше 500.\n",
    "- RegistrationYear. Удалил выбросы и аномальные значения. Это значения меньше 1950г. и больше 2020г.\n",
    "\n",
    "**Кодирование категориальных признаков**\n",
    "\n",
    "- Методом OrdinalEncoder() строковые значения преобразованы в числовые. Таким образом каждые признак состоит из числовых значений.\n",
    "\n"
   ]
  },
  {
   "cell_type": "markdown",
   "metadata": {},
   "source": [
    "# 2. Обучение моделей<a class=\"anchor\" id=\"Two\"></a>"
   ]
  },
  {
   "cell_type": "code",
   "execution_count": 32,
   "metadata": {},
   "outputs": [],
   "source": [
    "features = data_clear.drop(['Price'], axis = 1)\n",
    "target = data_clear['Price']\n",
    "\n",
    "features_train, features_test, target_train, target_test = train_test_split(\n",
    "                                                             features, target, test_size=0.3, random_state=12345)"
   ]
  },
  {
   "cell_type": "code",
   "execution_count": 33,
   "metadata": {},
   "outputs": [
    {
     "name": "stdout",
     "output_type": "stream",
     "text": [
      "Размеры матриц и векторов\n"
     ]
    },
    {
     "data": {
      "text/plain": [
       "((204226, 9), (204226,), (87526, 9), (87526,))"
      ]
     },
     "execution_count": 33,
     "metadata": {},
     "output_type": "execute_result"
    }
   ],
   "source": [
    "print('Размеры матриц и векторов')\n",
    "features_train.shape , target_train.shape , features_test.shape, target_test.shape"
   ]
  },
  {
   "cell_type": "markdown",
   "metadata": {},
   "source": [
    "## 2.1. LinearRegression<a class=\"anchor\" id=\"TwoPointOne\"></a>"
   ]
  },
  {
   "cell_type": "code",
   "execution_count": 34,
   "metadata": {},
   "outputs": [
    {
     "name": "stdout",
     "output_type": "stream",
     "text": [
      "Значение RMSE для LinearRegression на train = 2496.9166612700305\n",
      "CPU times: user 511 ms, sys: 329 ms, total: 840 ms\n",
      "Wall time: 827 ms\n"
     ]
    }
   ],
   "source": [
    "%%time\n",
    "start_time = time.time()\n",
    "\n",
    "lr_model = LinearRegression()\n",
    "\n",
    "# Значения метрики на кросс валидации\n",
    "lr_cv_rmse = (cross_val_score(lr_model, \n",
    "                             features_train, \n",
    "                             target_train, \n",
    "                             cv=5, \n",
    "                             scoring='neg_mean_squared_error').mean()*-1)**0.5\n",
    "print('Значение RMSE для LinearRegression на train =', lr_cv_rmse)\n",
    "\n",
    "lr_cv_time = time.time() - start_time"
   ]
  },
  {
   "cell_type": "code",
   "execution_count": 35,
   "metadata": {},
   "outputs": [
    {
     "name": "stdout",
     "output_type": "stream",
     "text": [
      "Значение RMSE для LinearRegression на test = 2510.334973537261\n",
      "CPU times: user 125 ms, sys: 65.4 ms, total: 190 ms\n",
      "Wall time: 200 ms\n"
     ]
    }
   ],
   "source": [
    "%%time\n",
    "start_time = time.time()\n",
    "\n",
    "lr_model.fit(features_train, target_train)\n",
    "\n",
    "lr_rmse = mean_squared_error(target_test, lr_model.predict(features_test))**0.5\n",
    "\n",
    "print('Значение RMSE для LinearRegression на test =' , lr_rmse)\n",
    "\n",
    "lr_time = time.time() - start_time # Записываем время работы ячейки"
   ]
  },
  {
   "cell_type": "markdown",
   "metadata": {},
   "source": [
    "## 2.2. Random Forest<a class=\"anchor\" id=\"TwoPointTwo\"></a>"
   ]
  },
  {
   "cell_type": "code",
   "execution_count": 36,
   "metadata": {},
   "outputs": [
    {
     "name": "stdout",
     "output_type": "stream",
     "text": [
      "{'max_depth': 14, 'n_estimators': 80}\n",
      "CPU times: user 6min 15s, sys: 519 ms, total: 6min 16s\n",
      "Wall time: 6min 18s\n"
     ]
    }
   ],
   "source": [
    "%%time\n",
    "start_time = time.time()\n",
    "# Подберем параметры\n",
    "rf_model = RandomForestRegressor(random_state = 12345) \n",
    "\n",
    "hyperparametrs = [{'n_estimators':[50, 80],'max_depth':[10,14]}]\n",
    "\n",
    "grid_rf = GridSearchCV(rf_model, hyperparametrs, cv=5)\n",
    "grid_rf.fit(features_train, target_train)\n",
    "print(grid_rf.best_params_)\n",
    "rf_cv_time_1 = time.time() - start_time"
   ]
  },
  {
   "cell_type": "code",
   "execution_count": 37,
   "metadata": {},
   "outputs": [
    {
     "name": "stdout",
     "output_type": "stream",
     "text": [
      "Значение RMSE для Random Forest на train: 1449.6126287242878\n",
      "CPU times: user 1min 58s, sys: 684 ms, total: 1min 58s\n",
      "Wall time: 1min 59s\n"
     ]
    }
   ],
   "source": [
    "%%time\n",
    "start_time = time.time()\n",
    "\n",
    "rf_model = RandomForestRegressor( max_depth=14, n_estimators=80, random_state = 12345) \n",
    "# Значения метрики на кросс валидации\n",
    "\n",
    "rf_cv_rmse = (cross_val_score(rf_model , \n",
    "                            features_train, \n",
    "                            target_train , \n",
    "                            cv=5 , \n",
    "                            scoring='neg_mean_squared_error').mean()*-1)**0.5\n",
    "\n",
    "print('Значение RMSE для Random Forest на train:' , rf_cv_rmse)\n",
    "\n",
    "rf_cv_time_2 = time.time() - start_time # Записываем время работы ячейки"
   ]
  },
  {
   "cell_type": "code",
   "execution_count": 38,
   "metadata": {},
   "outputs": [],
   "source": [
    "rf_cv_time = rf_cv_time_1 + rf_cv_time_2"
   ]
  },
  {
   "cell_type": "code",
   "execution_count": 39,
   "metadata": {},
   "outputs": [
    {
     "name": "stdout",
     "output_type": "stream",
     "text": [
      "Значение RMSE для Random Forest на test: 1451.9944268721956\n",
      "CPU times: user 28.6 s, sys: 144 ms, total: 28.8 s\n",
      "Wall time: 28.9 s\n"
     ]
    }
   ],
   "source": [
    "%%time\n",
    "# Модель на тестовой выборке\n",
    "start_time = time.time()\n",
    "\n",
    "rf_model.fit(features_train, target_train)\n",
    "rf_rmse = mean_squared_error(target_test, grid_rf.predict(features_test))**0.5\n",
    "\n",
    "print('Значение RMSE для Random Forest на test:' , rf_rmse)\n",
    "\n",
    "rf_time = time.time() - start_time # Записываем время работы ячейки "
   ]
  },
  {
   "cell_type": "markdown",
   "metadata": {},
   "source": [
    "## 2.3. LightGBM<a class=\"anchor\" id=\"TwoPointThree\"></a>"
   ]
  },
  {
   "cell_type": "code",
   "execution_count": 49,
   "metadata": {},
   "outputs": [
    {
     "name": "stdout",
     "output_type": "stream",
     "text": [
      "Лучшие гиперпараметры:\n",
      "\n",
      "{'max_depth': 14, 'min_data_in_leaf': 10, 'num_leaves': 400}\n",
      "\n",
      "RMSE при разных значениях гиперпараметров:\n",
      "\n",
      "1384.0930 for {'max_depth': 10, 'min_data_in_leaf': 10, 'num_leaves': 200}\n",
      "1374.1154 for {'max_depth': 10, 'min_data_in_leaf': 10, 'num_leaves': 400}\n",
      "1411.6975 for {'max_depth': 10, 'min_data_in_leaf': 100, 'num_leaves': 200}\n",
      "1409.5990 for {'max_depth': 10, 'min_data_in_leaf': 100, 'num_leaves': 400}\n",
      "1430.8605 for {'max_depth': 10, 'min_data_in_leaf': 200, 'num_leaves': 200}\n",
      "1429.8875 for {'max_depth': 10, 'min_data_in_leaf': 200, 'num_leaves': 400}\n",
      "1378.9639 for {'max_depth': 12, 'min_data_in_leaf': 10, 'num_leaves': 200}\n",
      "1364.1715 for {'max_depth': 12, 'min_data_in_leaf': 10, 'num_leaves': 400}\n",
      "1402.7763 for {'max_depth': 12, 'min_data_in_leaf': 100, 'num_leaves': 200}\n",
      "1397.2860 for {'max_depth': 12, 'min_data_in_leaf': 100, 'num_leaves': 400}\n",
      "1422.0308 for {'max_depth': 12, 'min_data_in_leaf': 200, 'num_leaves': 200}\n",
      "1420.6662 for {'max_depth': 12, 'min_data_in_leaf': 200, 'num_leaves': 400}\n",
      "1375.3204 for {'max_depth': 14, 'min_data_in_leaf': 10, 'num_leaves': 200}\n",
      "1360.0005 for {'max_depth': 14, 'min_data_in_leaf': 10, 'num_leaves': 400}\n",
      "1397.9310 for {'max_depth': 14, 'min_data_in_leaf': 100, 'num_leaves': 200}\n",
      "1392.5167 for {'max_depth': 14, 'min_data_in_leaf': 100, 'num_leaves': 400}\n",
      "1417.0069 for {'max_depth': 14, 'min_data_in_leaf': 200, 'num_leaves': 200}\n",
      "1413.1110 for {'max_depth': 14, 'min_data_in_leaf': 200, 'num_leaves': 400}\n",
      "\n",
      "CPU times: user 6min 36s, sys: 0 ns, total: 6min 36s\n",
      "Wall time: 6min 38s\n"
     ]
    }
   ],
   "source": [
    "%%time\n",
    "start_time = time.time()\n",
    "\n",
    "LGBM = LGBMRegressor(random_state=12345, learning_rate=0.1) \n",
    "hyperparams = [{'num_leaves':[200, 400], \n",
    "                'max_depth':[10, 12, 14],\n",
    "                'min_data_in_leaf':[10, 100, 200]}]\n",
    "\n",
    "grid_lgbm = GridSearchCV(LGBM, hyperparams, scoring='neg_mean_squared_error', cv=5)\n",
    "grid_lgbm.fit(features_train, target_train)\n",
    "\n",
    "print('Лучшие гиперпараметры:')\n",
    "print()\n",
    "print(grid_lgbm.best_params_)\n",
    "print()\n",
    "print(\"RMSE при разных значениях гиперпараметров:\")\n",
    "print()\n",
    "means = grid_lgbm.cv_results_['mean_test_score']\n",
    "stds = grid_lgbm.cv_results_['std_test_score']\n",
    "for mean, std, params in zip(means, stds, grid_lgbm.cv_results_['params']):\n",
    "    print(\"%0.4f for %r\"% ((mean*-1)** 0.5, params))\n",
    "print()\n",
    "\n",
    "lgbm_cv_rmse = (max(means)*-1) ** 0.5\n",
    "lgbm_cv_time = time.time() - start_time # Записываем время работы ячейки "
   ]
  },
  {
   "cell_type": "code",
   "execution_count": 50,
   "metadata": {},
   "outputs": [
    {
     "name": "stdout",
     "output_type": "stream",
     "text": [
      "Значение RMSE для LightGBM на test: 1353.6053884550602\n",
      "CPU times: user 6.56 s, sys: 76.8 ms, total: 6.64 s\n",
      "Wall time: 6.64 s\n"
     ]
    }
   ],
   "source": [
    "%%time\n",
    "# Модель на тестовой выборке\n",
    "start_time = time.time()\n",
    "model = LGBMRegressor(random_state=12345, learning_rate=0.1, depth=14, min_data_in_leaf=10, num_leaves=400)\n",
    "\n",
    "# Обучаем модель\n",
    "model.fit(features_train, target_train)  \n",
    "# Делаем предсказания\n",
    "preds = model.predict(features_test)\n",
    "lgbm_rmse = mean_squared_error(target_test, preds)**0.5\n",
    "\n",
    "print('Значение RMSE для LightGBM на test:', lgbm_rmse)\n",
    "\n",
    "lgbm_time = time.time() - start_time # Записываем время работы ячейки"
   ]
  },
  {
   "cell_type": "markdown",
   "metadata": {},
   "source": [
    "## 2.4. CatBoost<a class=\"anchor\" id=\"TwoPointFour\"></a>"
   ]
  },
  {
   "cell_type": "code",
   "execution_count": 51,
   "metadata": {},
   "outputs": [
    {
     "name": "stdout",
     "output_type": "stream",
     "text": [
      "Лучшие гиперпараметры::\n",
      "\n",
      "{'depth': 14, 'iterations': 500, 'learning_rate': 0.1, 'verbose': False}\n",
      "\n",
      "RMSE при разных значениях гиперпараметров:\n",
      "\n",
      "1405.6633 for {'depth': 12, 'iterations': 200, 'learning_rate': 0.1, 'verbose': False}\n",
      "1372.6675 for {'depth': 12, 'iterations': 500, 'learning_rate': 0.1, 'verbose': False}\n",
      "1392.4707 for {'depth': 14, 'iterations': 200, 'learning_rate': 0.1, 'verbose': False}\n",
      "1366.8191 for {'depth': 14, 'iterations': 500, 'learning_rate': 0.1, 'verbose': False}\n",
      "\n",
      "CPU times: user 29min 13s, sys: 3min 30s, total: 32min 43s\n",
      "Wall time: 33min 1s\n"
     ]
    }
   ],
   "source": [
    "%%time\n",
    "start_time = time.time()\n",
    "\n",
    "CatBST = CatBoostRegressor(random_state=12345) \n",
    "hyperparams = [{'iterations': [200, 500],\n",
    "                'learning_rate':[0.1], # 0.5\n",
    "                'depth': [12, 14],\n",
    "                'verbose':[False]}]\n",
    "\n",
    "grid_cat = GridSearchCV(CatBST, hyperparams, scoring='neg_mean_squared_error')\n",
    "grid_cat.fit(features_train, target_train)\n",
    "print(\"Лучшие гиперпараметры::\")\n",
    "print()\n",
    "print(grid_cat.best_params_)\n",
    "print()\n",
    "print(\"RMSE при разных значениях гиперпараметров:\")\n",
    "print()\n",
    "means = grid_cat.cv_results_['mean_test_score']\n",
    "stds = grid_cat.cv_results_['std_test_score']\n",
    "for mean, std, params in zip(means, stds, grid_cat.cv_results_['params']):\n",
    "    print(\"%0.4f for %r\"% ((mean*-1)** 0.5, params))\n",
    "print()\n",
    "catboost_cv_rmse = (max(means)*-1) ** 0.5\n",
    "catboost_cv_time = time.time() - start_time # Записываем время работы ячейки "
   ]
  },
  {
   "cell_type": "code",
   "execution_count": 43,
   "metadata": {},
   "outputs": [
    {
     "name": "stdout",
     "output_type": "stream",
     "text": [
      "Значение RMSE для CatBoost на test: 1362.3299244279856\n",
      "CPU times: user 2min 22s, sys: 15.4 s, total: 2min 38s\n",
      "Wall time: 2min 40s\n"
     ]
    }
   ],
   "source": [
    "%%time\n",
    "# Модель на тестовой выборке\n",
    "start_time = time.time()\n",
    "model = CatBoostRegressor(iterations = 500, learning_rate = 0.1, depth = 12, verbose=False)\n",
    "\n",
    "# Обучаем модель\n",
    "model.fit(features_train, target_train)  \n",
    "# Делаем предсказания\n",
    "preds = model.predict(features_test)\n",
    "catboost_rmse = mean_squared_error(target_test, preds)**0.5\n",
    "\n",
    "print('Значение RMSE для CatBoost на test:', catboost_rmse)\n",
    "\n",
    "catboost_time = time.time() - start_time # Записываем время работы ячейки в переменную"
   ]
  },
  {
   "cell_type": "markdown",
   "metadata": {},
   "source": [
    "##  2.5. XGBoost<a class=\"anchor\" id=\"TwoPointFive\"></a>"
   ]
  },
  {
   "cell_type": "code",
   "execution_count": 47,
   "metadata": {},
   "outputs": [
    {
     "name": "stdout",
     "output_type": "stream",
     "text": [
      "Лучшие гиперпараметры:\n",
      "\n",
      "{'max_depth': 10, 'n_estimators': 200}\n",
      "\n",
      "RMSE при разных значениях гиперпараметров:\n",
      "\n",
      "1369.0407 for {'max_depth': 10, 'n_estimators': 100}\n",
      "1352.8644 for {'max_depth': 10, 'n_estimators': 200}\n",
      "1360.7265 for {'max_depth': 12, 'n_estimators': 100}\n",
      "1358.7725 for {'max_depth': 12, 'n_estimators': 200}\n",
      "1379.0125 for {'max_depth': 14, 'n_estimators': 100}\n",
      "1386.9425 for {'max_depth': 14, 'n_estimators': 200}\n",
      "\n",
      "CPU times: user 30min 27s, sys: 0 ns, total: 30min 27s\n",
      "Wall time: 30min 31s\n"
     ]
    }
   ],
   "source": [
    "%%time\n",
    "start_time = time.time()\n",
    "import warnings\n",
    "warnings.simplefilter(action='ignore', category=FutureWarning)\n",
    "\n",
    "xgb_model = xgb.XGBRegressor(objective ='reg:squarederror', gpu_id=0, random_state = 12345)\n",
    "\n",
    "hyperparametrs = { 'max_depth': [10, 12, 14],\n",
    "                'n_estimators': [100, 200]}\n",
    "\n",
    "grid_xgbst = GridSearchCV(xgb_model, hyperparametrs, scoring='neg_mean_squared_error', cv=5)\n",
    "model_xgboost = grid_xgbst.fit(features_train, target_train)\n",
    "\n",
    "print('Лучшие гиперпараметры:')\n",
    "print()\n",
    "print(grid_xgbst.best_params_)\n",
    "print()\n",
    "#predict = model_xgboost.predict(features_valid)\n",
    "#print(\"RMSE\", (mean_squared_error(target_valid, predict))**.5)\n",
    "print(\"RMSE при разных значениях гиперпараметров:\")\n",
    "print()\n",
    "means = grid_xgbst.cv_results_['mean_test_score']\n",
    "stds = grid_xgbst.cv_results_['std_test_score']\n",
    "for mean, std, params in zip(means, stds, grid_xgbst.cv_results_['params']):\n",
    "    print(\"%0.4f for %r\"% ((mean*-1)** 0.5, params))\n",
    "print()\n",
    "xgboost_cv_rmse = (max(means)*-1) ** 0.5\n",
    "xgboost_cv_time = time.time() - start_time # Записываем время работы ячейки\n"
   ]
  },
  {
   "cell_type": "code",
   "execution_count": 48,
   "metadata": {},
   "outputs": [
    {
     "name": "stdout",
     "output_type": "stream",
     "text": [
      "Значение  RMSE для XGBoost на test: 1349.467833383851\n",
      "CPU times: user 1min 17s, sys: 0 ns, total: 1min 17s\n",
      "Wall time: 1min 18s\n"
     ]
    }
   ],
   "source": [
    "%%time\n",
    "\n",
    "# Модель на тестовой выборке\n",
    "start_time = time.time()\n",
    "model = xgb.XGBRegressor(objective ='reg:squarederror', max_depth=10, n_estimators=200, gpu_id=0, random_state = 12345)\n",
    "\n",
    "# Обучаем модель\n",
    "model.fit(features_train, target_train)  \n",
    "# Делаем предсказания\n",
    "preds = model.predict(features_test)\n",
    "xgboost_rmse = mean_squared_error(target_test, preds)**0.5\n",
    "\n",
    "print('Значение  RMSE для XGBoost на test:', xgboost_rmse)\n",
    "\n",
    "xgboost_time = time.time() - start_time # Записываем время работы ячейки"
   ]
  },
  {
   "cell_type": "markdown",
   "metadata": {},
   "source": [
    "# 3. Анализ моделей<a class=\"anchor\" id=\"Three\"></a>"
   ]
  },
  {
   "cell_type": "markdown",
   "metadata": {},
   "source": [
    "Для анализа использовали модели: LinearRegression, Random Forest , LightGBM , CatBoost, XGBoost."
   ]
  },
  {
   "cell_type": "code",
   "execution_count": 52,
   "metadata": {},
   "outputs": [
    {
     "data": {
      "text/html": [
       "<div>\n",
       "<style scoped>\n",
       "    .dataframe tbody tr th:only-of-type {\n",
       "        vertical-align: middle;\n",
       "    }\n",
       "\n",
       "    .dataframe tbody tr th {\n",
       "        vertical-align: top;\n",
       "    }\n",
       "\n",
       "    .dataframe thead th {\n",
       "        text-align: right;\n",
       "    }\n",
       "</style>\n",
       "<table border=\"1\" class=\"dataframe\">\n",
       "  <thead>\n",
       "    <tr style=\"text-align: right;\">\n",
       "      <th></th>\n",
       "      <th>Model</th>\n",
       "      <th>RMSE_CV</th>\n",
       "      <th>RMSE_test</th>\n",
       "      <th>Working_time_CV</th>\n",
       "      <th>Working_time_test</th>\n",
       "    </tr>\n",
       "  </thead>\n",
       "  <tbody>\n",
       "    <tr>\n",
       "      <td>0</td>\n",
       "      <td>LinearRegression,</td>\n",
       "      <td>2496.916661</td>\n",
       "      <td>2510.334974</td>\n",
       "      <td>0.827340</td>\n",
       "      <td>0.199473</td>\n",
       "    </tr>\n",
       "    <tr>\n",
       "      <td>1</td>\n",
       "      <td>Random_Forest</td>\n",
       "      <td>1449.612629</td>\n",
       "      <td>1451.994427</td>\n",
       "      <td>497.907567</td>\n",
       "      <td>28.928509</td>\n",
       "    </tr>\n",
       "    <tr>\n",
       "      <td>2</td>\n",
       "      <td>LightGBM</td>\n",
       "      <td>1360.000478</td>\n",
       "      <td>1353.605388</td>\n",
       "      <td>398.019591</td>\n",
       "      <td>6.638592</td>\n",
       "    </tr>\n",
       "    <tr>\n",
       "      <td>3</td>\n",
       "      <td>CatBoost</td>\n",
       "      <td>1366.819147</td>\n",
       "      <td>1366.819147</td>\n",
       "      <td>1981.181689</td>\n",
       "      <td>160.310238</td>\n",
       "    </tr>\n",
       "    <tr>\n",
       "      <td>4</td>\n",
       "      <td>XGBoost</td>\n",
       "      <td>1352.864426</td>\n",
       "      <td>1349.467833</td>\n",
       "      <td>1831.973081</td>\n",
       "      <td>78.079432</td>\n",
       "    </tr>\n",
       "  </tbody>\n",
       "</table>\n",
       "</div>"
      ],
      "text/plain": [
       "               Model      RMSE_CV    RMSE_test  Working_time_CV  \\\n",
       "0  LinearRegression,  2496.916661  2510.334974         0.827340   \n",
       "1      Random_Forest  1449.612629  1451.994427       497.907567   \n",
       "2           LightGBM  1360.000478  1353.605388       398.019591   \n",
       "3           CatBoost  1366.819147  1366.819147      1981.181689   \n",
       "4            XGBoost  1352.864426  1349.467833      1831.973081   \n",
       "\n",
       "   Working_time_test  \n",
       "0           0.199473  \n",
       "1          28.928509  \n",
       "2           6.638592  \n",
       "3         160.310238  \n",
       "4          78.079432  "
      ]
     },
     "execution_count": 52,
     "metadata": {},
     "output_type": "execute_result"
    }
   ],
   "source": [
    "# Записываем результаты в словарь\n",
    "dict_results = {'Model': ['LinearRegression,' , 'Random_Forest' , 'LightGBM' , 'CatBoost','XGBoost'],\n",
    "               'RMSE_CV':[lr_cv_rmse , rf_cv_rmse , lgbm_cv_rmse , catboost_cv_rmse, xgboost_cv_rmse] ,\n",
    "               'RMSE_test': [lr_rmse , rf_rmse , lgbm_rmse , catboost_cv_rmse, xgboost_rmse] , \n",
    "               'Working_time_CV' : [lr_cv_time , rf_cv_time , lgbm_cv_time , catboost_cv_time, xgboost_cv_time ],\n",
    "               'Working_time_test': [lr_time , rf_time , lgbm_time , catboost_time, xgboost_time] ,\n",
    "               } \n",
    "Results = pd.DataFrame(dict_results)\n",
    "Results"
   ]
  },
  {
   "cell_type": "markdown",
   "metadata": {},
   "source": [
    "# 4. Общий Вывод<a class=\"anchor\" id=\"Four\"></a>"
   ]
  },
  {
   "cell_type": "markdown",
   "metadata": {},
   "source": [
    "- Для модели LinearRegression не использовал подбор параметров.\n",
    "- Для модели Random Forest подбирал значения параметров: *n_estimators и max_depth.*\n",
    "- Для модели LightGBM подбирал значения параметров: *num_leaves, max_depth, min_data_in_leaf.*\n",
    "- Для модели CatBoost подбирал значения параметров: *iterations, learning_rate, depth.*\n",
    "- Для модели XGBoost подбирал значения параметров:  *max_depth, n_estimators*\n",
    "_______________________________________________\n",
    "1. Лучшее качество показала модель XGBoost. На втором месте по качеству LightGBM, на третьем - CatBoost. \n",
    "2. Лучшая скорость работы модели LinearRegression. На втором месте - LightGBM, на третьем - Random Forest.\n",
    "3. Самое низкое качество показала модель LinearRegression.\n",
    "4. Самая низка скорость работы у CatBoost.\n",
    "\n",
    "**Итого: Лучший показатель в соотношении качество/скорость у модели LightGBM, на втором месте XGBoost**"
   ]
  },
  {
   "cell_type": "markdown",
   "metadata": {},
   "source": [
    "## Чек-лист проверки"
   ]
  },
  {
   "cell_type": "markdown",
   "metadata": {},
   "source": [
    "Поставьте 'x' в выполненных пунктах. Далее нажмите Shift+Enter."
   ]
  },
  {
   "cell_type": "markdown",
   "metadata": {},
   "source": [
    "- [x]  Jupyter Notebook открыт\n",
    "- [ ]  Весь код выполняется без ошибок\n",
    "- [ ]  Ячейки с кодом расположены в порядке исполнения\n",
    "- [ ]  Выполнена загрузка и подготовка данных\n",
    "- [ ]  Выполнено обучение моделей\n",
    "- [ ]  Есть анализ скорости работы и качества моделей"
   ]
  },
  {
   "cell_type": "code",
   "execution_count": null,
   "metadata": {},
   "outputs": [],
   "source": []
  }
 ],
 "metadata": {
  "kernelspec": {
   "display_name": "Python 3",
   "language": "python",
   "name": "python3"
  }
 },
 "nbformat": 4,
 "nbformat_minor": 2
}
